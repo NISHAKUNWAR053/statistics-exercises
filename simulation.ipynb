{
 "cells": [
  {
   "cell_type": "code",
   "execution_count": 1,
   "id": "6db19dc5",
   "metadata": {},
   "outputs": [],
   "source": [
    "import numpy as np\n",
    "import pandas as pd\n",
    "\n",
    "import matplotlib.pyplot as plt"
   ]
  },
  {
   "cell_type": "code",
   "execution_count": 2,
   "id": "94abcf84",
   "metadata": {},
   "outputs": [],
   "source": [
    "rng = np.random.default_rng(seed=42)"
   ]
  },
  {
   "cell_type": "markdown",
   "id": "87641c1e",
   "metadata": {},
   "source": [
    "How likely is it that you roll doubles when rolling two dice?\n",
    "\n"
   ]
  },
  {
   "cell_type": "code",
   "execution_count": null,
   "id": "23d7fa0b",
   "metadata": {},
   "outputs": [],
   "source": []
  },
  {
   "cell_type": "code",
   "execution_count": 14,
   "id": "b0a2b1f8",
   "metadata": {},
   "outputs": [],
   "source": [
    "nrows = 1_000"
   ]
  },
  {
   "cell_type": "code",
   "execution_count": 197,
   "id": "31d16a70",
   "metadata": {
    "scrolled": true
   },
   "outputs": [
    {
     "data": {
      "text/plain": [
       "array([4, 4, 4, 2, 4])"
      ]
     },
     "execution_count": 197,
     "metadata": {},
     "output_type": "execute_result"
    }
   ],
   "source": [
    "dice1 = rng.integers(1,6, 10_000)\n",
    "dice1[:5]"
   ]
  },
  {
   "cell_type": "code",
   "execution_count": 201,
   "id": "0e231b13",
   "metadata": {},
   "outputs": [
    {
     "data": {
      "text/plain": [
       "array([False, False, False, ..., False, False, False])"
      ]
     },
     "execution_count": 201,
     "metadata": {},
     "output_type": "execute_result"
    }
   ],
   "source": [
    "dice1 == 1"
   ]
  },
  {
   "cell_type": "code",
   "execution_count": 203,
   "id": "e3c1d993",
   "metadata": {},
   "outputs": [
    {
     "data": {
      "text/plain": [
       "1972"
      ]
     },
     "execution_count": 203,
     "metadata": {},
     "output_type": "execute_result"
    }
   ],
   "source": [
    "(dice1 == 1).sum()"
   ]
  },
  {
   "cell_type": "code",
   "execution_count": 205,
   "id": "b9eaa0ef",
   "metadata": {},
   "outputs": [
    {
     "data": {
      "text/plain": [
       "0.1972"
      ]
     },
     "execution_count": 205,
     "metadata": {},
     "output_type": "execute_result"
    }
   ],
   "source": [
    "likely_roll = (dice1 == 1).sum()/ len(dice1)\n",
    "likely_roll"
   ]
  },
  {
   "cell_type": "markdown",
   "id": "de53ea71",
   "metadata": {},
   "source": [
    "2. If you flip 8 coins, what is the probability of getting exactly 3 heads? What is the probability of getting more than 3 heads?\n",
    "\n"
   ]
  },
  {
   "cell_type": "code",
   "execution_count": 24,
   "id": "a7c7e4e2",
   "metadata": {},
   "outputs": [
    {
     "data": {
      "text/plain": [
       "array([[1, 0, 1, 0, 1, 0, 1, 0],\n",
       "       [1, 0, 1, 1, 1, 0, 1, 0],\n",
       "       [0, 0, 0, 1, 0, 1, 1, 0]])"
      ]
     },
     "execution_count": 24,
     "metadata": {},
     "output_type": "execute_result"
    }
   ],
   "source": [
    "flips = rng.choice([0,1],(1_000,8))\n",
    "flips[:3]"
   ]
  },
  {
   "cell_type": "code",
   "execution_count": 26,
   "id": "15bc9fb9",
   "metadata": {},
   "outputs": [
    {
     "data": {
      "text/plain": [
       "array([4, 5, 3])"
      ]
     },
     "execution_count": 26,
     "metadata": {},
     "output_type": "execute_result"
    }
   ],
   "source": [
    "flips_sum = flips.sum(axis=1)\n",
    "flips_sum[:3]"
   ]
  },
  {
   "cell_type": "code",
   "execution_count": 206,
   "id": "c5dcc477",
   "metadata": {},
   "outputs": [
    {
     "data": {
      "text/plain": [
       "221"
      ]
     },
     "execution_count": 206,
     "metadata": {},
     "output_type": "execute_result"
    }
   ],
   "source": [
    "exact_three = (flips_sum ==3).sum()\n",
    "exact_three"
   ]
  },
  {
   "cell_type": "code",
   "execution_count": 213,
   "id": "a070b4e5",
   "metadata": {},
   "outputs": [
    {
     "data": {
      "text/plain": [
       "0.221"
      ]
     },
     "execution_count": 213,
     "metadata": {},
     "output_type": "execute_result"
    }
   ],
   "source": [
    "prob_three_head = (flips_sum ==3).sum()/1_000\n",
    "prob_three_head"
   ]
  },
  {
   "cell_type": "markdown",
   "id": "30eaf427",
   "metadata": {},
   "source": [
    "What is the probability of getting more than 3 heads?"
   ]
  },
  {
   "cell_type": "code",
   "execution_count": 214,
   "id": "225a74b9",
   "metadata": {},
   "outputs": [
    {
     "data": {
      "text/plain": [
       "array([[1, 0, 1, 0],\n",
       "       [0, 1, 0, 0],\n",
       "       [1, 1, 0, 0],\n",
       "       [1, 1, 1, 1]])"
      ]
     },
     "execution_count": 214,
     "metadata": {},
     "output_type": "execute_result"
    }
   ],
   "source": [
    "flips_more = rng.choice([0,1], (1_000,4))\n",
    "flips_more[:4]"
   ]
  },
  {
   "cell_type": "code",
   "execution_count": 215,
   "id": "8d412eb8",
   "metadata": {},
   "outputs": [
    {
     "data": {
      "text/plain": [
       "array([2, 1, 2, 4])"
      ]
     },
     "execution_count": 215,
     "metadata": {},
     "output_type": "execute_result"
    }
   ],
   "source": [
    "flips_more = flips_more.sum(axis = 1)\n",
    "flips_more[:4]"
   ]
  },
  {
   "cell_type": "code",
   "execution_count": 216,
   "id": "490ebdf7",
   "metadata": {},
   "outputs": [
    {
     "data": {
      "text/plain": [
       "65"
      ]
     },
     "execution_count": 216,
     "metadata": {},
     "output_type": "execute_result"
    }
   ],
   "source": [
    "more_than_three = (flips_more == 4).sum()\n",
    "more_than_three"
   ]
  },
  {
   "cell_type": "code",
   "execution_count": 218,
   "id": "9c03fd4a",
   "metadata": {},
   "outputs": [
    {
     "data": {
      "text/plain": [
       "0.065"
      ]
     },
     "execution_count": 218,
     "metadata": {},
     "output_type": "execute_result"
    }
   ],
   "source": [
    "more_head_prob = (flips_more == 4).sum() / 1_000\n",
    "more_head_prob"
   ]
  },
  {
   "cell_type": "markdown",
   "id": "5d753b68",
   "metadata": {},
   "source": [
    "3. There are approximitely 3 web development cohorts for every 1 data science cohort at Codeup. Assuming that Codeup randomly selects an alumni to put on a billboard, what are the odds that the two billboards I drive past both have data science students on them?\n",
    "\n"
   ]
  },
  {
   "cell_type": "code",
   "execution_count": 81,
   "id": "7896c324",
   "metadata": {},
   "outputs": [
    {
     "data": {
      "text/plain": [
       "0.25"
      ]
     },
     "execution_count": 81,
     "metadata": {},
     "output_type": "execute_result"
    }
   ],
   "source": [
    "d_s = 1/4\n",
    "d_s"
   ]
  },
  {
   "cell_type": "code",
   "execution_count": 90,
   "id": "74d73519",
   "metadata": {},
   "outputs": [],
   "source": [
    "billboards = rng.random((1_000,2))\n"
   ]
  },
  {
   "cell_type": "code",
   "execution_count": 91,
   "id": "86bca40d",
   "metadata": {},
   "outputs": [
    {
     "data": {
      "text/plain": [
       "array([[False, False],\n",
       "       [False, False],\n",
       "       [False, False],\n",
       "       ...,\n",
       "       [False, False],\n",
       "       [False, False],\n",
       "       [False, False]])"
      ]
     },
     "execution_count": 91,
     "metadata": {},
     "output_type": "execute_result"
    }
   ],
   "source": [
    "billboards <= .25"
   ]
  },
  {
   "cell_type": "code",
   "execution_count": 92,
   "id": "1d2d33da",
   "metadata": {
    "scrolled": true
   },
   "outputs": [
    {
     "data": {
      "text/plain": [
       "array([0, 0, 0, 1, 0, 0, 0, 0, 0, 0, 1, 1, 0, 1, 0, 2, 0, 0, 2, 1, 1, 1,\n",
       "       0, 0, 0, 1, 0, 0, 0, 1, 1, 1, 0, 1, 1, 1, 1, 1, 1, 0, 0, 1, 1, 1,\n",
       "       0, 1, 1, 1, 0, 2, 0, 0, 0, 0, 1, 1, 2, 0, 0, 0, 1, 1, 1, 0, 1, 0,\n",
       "       1, 1, 1, 0, 0, 1, 1, 1, 1, 2, 1, 1, 1, 0, 0, 0, 1, 0, 1, 0, 1, 2,\n",
       "       0, 0, 0, 0, 1, 0, 1, 2, 0, 1, 1, 0, 2, 0, 1, 2, 0, 0, 1, 0, 0, 0,\n",
       "       2, 0, 1, 1, 0, 0, 1, 0, 0, 0, 0, 0, 1, 1, 0, 0, 1, 0, 0, 0, 0, 2,\n",
       "       0, 1, 1, 0, 0, 0, 0, 1, 1, 0, 1, 0, 2, 0, 0, 0, 1, 0, 0, 1, 0, 1,\n",
       "       2, 0, 1, 0, 0, 2, 0, 0, 0, 1, 0, 1, 1, 0, 1, 0, 0, 2, 0, 2, 1, 0,\n",
       "       1, 0, 1, 0, 0, 0, 2, 2, 0, 0, 0, 1, 0, 1, 0, 0, 0, 2, 0, 0, 0, 0,\n",
       "       1, 1, 0, 1, 0, 0, 0, 0, 1, 0, 0, 0, 0, 1, 1, 0, 0, 0, 0, 2, 0, 0,\n",
       "       0, 1, 2, 1, 1, 0, 0, 0, 1, 0, 1, 0, 1, 1, 0, 1, 0, 0, 1, 1, 0, 1,\n",
       "       0, 1, 0, 0, 1, 0, 1, 0, 1, 0, 1, 1, 0, 0, 0, 0, 1, 1, 0, 1, 0, 0,\n",
       "       1, 0, 1, 0, 0, 2, 1, 1, 0, 2, 1, 0, 1, 1, 1, 0, 1, 0, 1, 0, 1, 0,\n",
       "       0, 1, 0, 1, 1, 0, 0, 1, 1, 1, 2, 0, 0, 1, 0, 1, 1, 1, 0, 0, 1, 0,\n",
       "       0, 0, 0, 1, 2, 0, 0, 0, 0, 1, 0, 0, 0, 0, 1, 0, 2, 1, 0, 0, 0, 0,\n",
       "       0, 0, 0, 1, 1, 1, 0, 0, 0, 0, 1, 0, 1, 1, 0, 0, 0, 2, 1, 2, 1, 0,\n",
       "       1, 0, 0, 1, 0, 0, 2, 0, 2, 2, 1, 0, 0, 2, 1, 1, 0, 2, 0, 1, 1, 1,\n",
       "       0, 0, 0, 0, 1, 1, 2, 0, 0, 0, 0, 0, 0, 0, 1, 1, 1, 2, 1, 2, 0, 1,\n",
       "       2, 1, 0, 1, 0, 0, 1, 0, 2, 0, 2, 1, 1, 2, 1, 1, 0, 0, 0, 1, 1, 1,\n",
       "       1, 1, 0, 0, 0, 1, 1, 1, 0, 0, 1, 1, 1, 0, 1, 2, 0, 2, 0, 1, 0, 0,\n",
       "       1, 0, 0, 0, 1, 1, 0, 0, 1, 0, 0, 1, 0, 0, 0, 0, 0, 0, 2, 2, 0, 1,\n",
       "       0, 0, 1, 1, 0, 2, 2, 2, 1, 0, 1, 0, 0, 0, 0, 0, 0, 1, 1, 0, 0, 0,\n",
       "       0, 1, 1, 1, 0, 0, 2, 1, 1, 0, 1, 0, 0, 0, 0, 0, 2, 0, 1, 0, 0, 0,\n",
       "       0, 0, 2, 2, 1, 1, 1, 1, 0, 0, 1, 1, 0, 1, 0, 1, 1, 0, 1, 0, 2, 1,\n",
       "       1, 0, 1, 0, 0, 1, 2, 1, 0, 0, 2, 0, 2, 0, 0, 0, 0, 1, 1, 0, 1, 0,\n",
       "       0, 0, 1, 1, 0, 0, 1, 1, 1, 0, 0, 0, 0, 1, 0, 0, 1, 1, 1, 1, 0, 0,\n",
       "       0, 1, 0, 0, 1, 0, 0, 0, 1, 0, 1, 1, 1, 2, 0, 1, 1, 1, 0, 1, 1, 0,\n",
       "       0, 0, 0, 0, 0, 1, 1, 1, 1, 0, 0, 0, 1, 0, 0, 2, 0, 0, 1, 0, 0, 0,\n",
       "       1, 1, 0, 0, 0, 0, 0, 1, 0, 0, 1, 1, 0, 0, 1, 1, 0, 0, 0, 0, 1, 0,\n",
       "       0, 0, 0, 2, 0, 1, 0, 0, 0, 0, 0, 0, 1, 0, 2, 0, 1, 2, 0, 0, 0, 0,\n",
       "       0, 0, 0, 0, 0, 0, 0, 0, 1, 1, 1, 0, 1, 0, 0, 1, 0, 0, 0, 1, 0, 0,\n",
       "       1, 1, 0, 0, 0, 0, 1, 0, 1, 1, 1, 1, 1, 1, 1, 0, 1, 1, 0, 0, 0, 0,\n",
       "       1, 0, 0, 0, 0, 1, 1, 0, 0, 0, 1, 0, 0, 1, 1, 0, 0, 1, 0, 1, 0, 0,\n",
       "       2, 0, 2, 0, 1, 0, 1, 1, 1, 2, 1, 0, 1, 0, 0, 2, 0, 0, 1, 1, 1, 0,\n",
       "       1, 1, 1, 0, 0, 1, 0, 0, 1, 0, 0, 0, 0, 1, 0, 1, 1, 0, 0, 1, 1, 1,\n",
       "       0, 1, 1, 1, 0, 1, 1, 0, 1, 1, 1, 2, 0, 0, 0, 1, 1, 0, 0, 1, 0, 1,\n",
       "       0, 1, 0, 1, 1, 1, 1, 1, 1, 0, 0, 1, 1, 1, 0, 1, 0, 0, 1, 0, 1, 1,\n",
       "       0, 0, 0, 0, 0, 1, 1, 0, 1, 2, 0, 2, 0, 0, 1, 0, 0, 1, 1, 0, 0, 2,\n",
       "       2, 1, 1, 1, 1, 1, 2, 0, 0, 0, 0, 0, 2, 1, 0, 1, 0, 0, 1, 0, 0, 1,\n",
       "       0, 0, 1, 1, 0, 0, 1, 0, 0, 0, 0, 0, 1, 0, 1, 0, 1, 0, 0, 2, 1, 2,\n",
       "       0, 0, 1, 0, 0, 0, 1, 0, 0, 1, 1, 0, 0, 0, 2, 1, 1, 0, 0, 1, 0, 0,\n",
       "       0, 1, 0, 0, 1, 0, 1, 0, 0, 0, 0, 1, 0, 0, 1, 1, 1, 0, 1, 1, 1, 0,\n",
       "       0, 1, 0, 2, 0, 0, 1, 0, 0, 0, 0, 1, 1, 2, 0, 0, 0, 0, 0, 2, 0, 2,\n",
       "       1, 1, 1, 1, 0, 0, 0, 0, 0, 0, 0, 0, 0, 1, 1, 1, 0, 0, 1, 0, 0, 0,\n",
       "       1, 0, 1, 1, 1, 1, 1, 1, 1, 1, 1, 0, 0, 0, 0, 1, 1, 0, 0, 0, 1, 2,\n",
       "       1, 2, 0, 1, 1, 0, 1, 0, 0, 0])"
      ]
     },
     "execution_count": 92,
     "metadata": {},
     "output_type": "execute_result"
    }
   ],
   "source": [
    "(billboards <= .25) .sum(axis=1)"
   ]
  },
  {
   "cell_type": "code",
   "execution_count": 93,
   "id": "4062b36e",
   "metadata": {},
   "outputs": [
    {
     "data": {
      "text/plain": [
       "542"
      ]
     },
     "execution_count": 93,
     "metadata": {},
     "output_type": "execute_result"
    }
   ],
   "source": [
    "twice_ds = (billboards <= .25).sum()\n",
    "twice_dsc"
   ]
  },
  {
   "cell_type": "markdown",
   "id": "a16c8224",
   "metadata": {},
   "source": [
    "4. Codeup students buy, on average, 3 poptart packages with a standard deviation of 1.5 a day from the snack vending machine. If on monday the machine is restocked with 17 poptart packages, how likely is it that I will be able to buy some poptarts on Friday afternoon? (Remember, if you have mean and standard deviation, use the np.random.normal) You'll need to make a judgement call on how to handle some of your values"
   ]
  },
  {
   "cell_type": "code",
   "execution_count": 111,
   "id": "6adea745",
   "metadata": {},
   "outputs": [],
   "source": [
    "poptarts = np.random.normal(3, 1.5, (1_000,5))\n",
    "poptarts = poptarts"
   ]
  },
  {
   "cell_type": "code",
   "execution_count": 112,
   "id": "0535c778",
   "metadata": {
    "scrolled": true
   },
   "outputs": [
    {
     "data": {
      "text/plain": [
       "array([19.23206663, 16.17494019, 10.38200593,  8.45746546,  7.65494123,\n",
       "       14.52881996, 15.39521853, 14.44056778, 11.92424601, 18.14399956,\n",
       "       17.5385686 ,  8.58816736, 18.25458727, 15.96414406, 17.14310723,\n",
       "       10.25603633, 14.90724527, 13.82598669, 15.06784001, 13.54581286,\n",
       "       16.75182415, 16.39382143, 20.81943205, 16.95030024, 14.93476557,\n",
       "       16.91578782, 12.11690609, 14.45630061, 17.38032622, 12.64614121,\n",
       "       11.0157502 , 20.39331725, 16.52550113, 19.22361701, 19.68497113,\n",
       "       12.90921785, 14.80157169, 14.85065852, 17.74028712, 21.58575406,\n",
       "       12.04542007, 12.57531037, 11.84065039, 16.2465348 , 13.97690057,\n",
       "       20.97125934, 12.74630689, 17.9747382 , 12.22324404, 12.87733505,\n",
       "       16.68123693, 15.29908576, 12.56023609, 13.71480659, 17.35341179,\n",
       "        9.32766527, 17.19926361, 13.48923215, 17.44719386, 22.95510175,\n",
       "       16.61587467, 11.97568282, 12.56970291, 11.93515096,  6.85776988,\n",
       "       19.5941609 , 20.26355419, 16.1629875 , 14.11098699, 20.86595112,\n",
       "       20.92059972, 17.81587724, 14.60027777, 13.96925574, 15.89955981,\n",
       "       19.05311241, 16.14378779, 16.47276776, 11.045914  , 15.39373793,\n",
       "       13.55848179, 13.96328155, 19.97198658, 16.87184918, 15.48538657,\n",
       "       14.27344861, 19.42524384, 16.03352874, 18.60245028, 19.23908025,\n",
       "       11.65086216,  8.52061177, 14.6879292 , 13.88159596, 11.17727556,\n",
       "       22.45049454, 15.47856993, 17.42062113, 15.39043312, 15.28896367,\n",
       "       12.30239583, 18.03102377, 19.69092579, 20.79325923, 17.86839517,\n",
       "       17.54890365, 14.83251588, 11.23478085, 10.16428629, 12.65706737,\n",
       "       15.75472832, 19.5448623 , 13.94165866,  7.69226215, 20.7615588 ,\n",
       "       11.06519895, 18.70845284, 16.23356789, 15.97124173, 11.55378641,\n",
       "       17.34560748, 13.77057552, 18.16577015,  9.3697582 , 13.16828318,\n",
       "       21.04834669, 13.13705662, 11.28063734, 11.71916571, 10.81496548,\n",
       "       11.09783777, 25.44083728, 14.66085972, 20.53257032, 10.76856631,\n",
       "       11.984343  , 16.2645484 , 19.27043883, 19.0960236 , 13.58321037,\n",
       "       11.53950074, 15.65253297, 13.37200551, 21.09117122, 17.5279282 ,\n",
       "       17.99738816, 16.62277694, 12.90400844, 16.2331014 , 21.51967161,\n",
       "       17.08511284,  9.56129405, 12.168277  , 13.04038638, 14.12555807,\n",
       "       12.29406423, 12.28854637, 16.18986445, 17.97249286, 18.88408767,\n",
       "       11.37817699, 12.30621832, 16.38966517, 13.12652175, 26.03015826,\n",
       "       19.52938983, 18.42059199, 16.4291772 , 14.92726568, 11.35026076,\n",
       "       16.85758818, 11.93967811, 15.26585876, 15.69254782,  8.74217818,\n",
       "        7.51690024, 12.27475791, 14.9496759 ,  9.05922787, 12.58423955,\n",
       "       14.0826428 , 10.26306276, 14.9778756 , 12.38201304, 18.06599189,\n",
       "       12.899087  , 22.47803737, 16.71321161, 14.62473218, 11.40412488,\n",
       "       11.08226467, 15.17789636, 12.78003761, 17.86385455, 20.71697123,\n",
       "       15.67481629, 17.11237167, 19.2729294 , 12.0730773 , 15.06011164,\n",
       "       16.22229875, 11.13113236, 11.66479193, 16.84197285, 13.58742226,\n",
       "       14.74137771, 19.08848371, 16.37619263, 10.8938603 , 12.64961822,\n",
       "       23.61829657, 17.83036836, 14.89841605, 14.83219707, 15.4398009 ,\n",
       "       12.96718168, 20.49308009, 16.85059891, 16.1611089 , 22.46538757,\n",
       "       18.38207553, 15.7022826 , 17.21634351, 18.52077293, 16.14284538,\n",
       "        9.58029009, 15.38258391, 13.08826948, 19.28221471,  8.0853769 ,\n",
       "       17.85258848, 10.76731277, 16.62165615, 19.02798642, 18.05842721,\n",
       "       13.92688217, 15.04980714, 15.49334204, 11.31057278, 19.68601851,\n",
       "       13.11554954, 15.33264199, 20.00572795, 17.81498046, 11.97229066,\n",
       "       12.59663715, 17.0904766 , 15.50977857, 15.86038692, 23.75741612,\n",
       "       14.3897164 , 11.78777313, 16.24638296, 19.62998083, 10.16198907,\n",
       "       17.54816089, 18.18730152, 19.9338998 , 13.93144614, 16.53012054,\n",
       "       14.78125065,  9.83898689, 19.36029246, 10.065961  , 16.1575952 ,\n",
       "        6.8031834 , 16.16122864, 13.15436455, 11.86123024, 16.38158472,\n",
       "       19.11066125, 13.02228346, 18.76953109, 15.21225425, 11.61428791,\n",
       "       12.1155389 ,  3.25085362, 16.30700423, 15.91398039, 13.80799267,\n",
       "       18.25779223, 10.8900739 , 11.60834747, 12.80384914, 14.30606928,\n",
       "       13.19762842, 22.71603259, 16.77482644, 14.58624175, 14.55683318,\n",
       "       16.42987955,  5.59930655, 17.13452515, 14.21052774, 16.69453286,\n",
       "       16.69639666, 16.25451212, 18.32885833, 15.7264714 , 17.9869474 ,\n",
       "       17.59378126, 12.75637235, 18.92179889, 18.78359002, 19.95452009,\n",
       "       13.51683822, 15.27876418, 21.60015952, 11.26649862, 14.84073385,\n",
       "       20.44348673, 17.68776246, 18.25386956, 15.3670685 , 13.39498742,\n",
       "       12.92877479, 16.060684  , 17.64508252, 19.66173734,  6.7925622 ,\n",
       "       10.42986967, 11.67552358, 11.02959386, 17.60954985, 17.23921929,\n",
       "       15.28142117, 21.53253141, 10.1395105 , 16.05646165,  5.13516922,\n",
       "       15.92008183, 10.17857005, 15.54856379, 13.15259526, 15.34636608,\n",
       "       11.72489591, 14.68041166, 10.07852098, 12.66062029, 13.91108377,\n",
       "       16.80483015, 13.84172948, 15.65567252, 13.49548798, 11.20197421,\n",
       "       11.93661326, 17.36311023, 18.82305398, 19.52922025, 12.26714928,\n",
       "       14.66119603, 12.81835576, 14.33601975, 11.8316566 , 19.14686302,\n",
       "       11.97179385,  7.98959629, 12.14580957,  8.87085987, 16.23308465,\n",
       "       13.184658  , 21.1815169 , 21.07710515, 10.15410727, 14.70742689,\n",
       "       10.87501932, 18.32922061, 18.27102733, 13.69368871, 15.55885641,\n",
       "       14.53240825, 16.40987434, 15.64895374, 18.12683806, 10.74834127,\n",
       "       21.04833524,  8.53866284, 17.79203433, 18.82987008, 17.73035189,\n",
       "       12.67370006,  8.70058588, 11.9453701 , 17.10457212, 11.52959602,\n",
       "       19.46593089, 10.24127568, 14.1823773 , 13.42566962, 10.65709935,\n",
       "       19.3053474 , 19.52762209, 15.92638039, 14.06400389, 24.41257322,\n",
       "       15.66173291, 14.43325591, 13.90872624, 13.81558677, 12.91426452,\n",
       "       13.94537933, 13.47442183, 15.00846134, 20.03129631, 10.44001169,\n",
       "       13.0317542 , 14.35779332, 10.06945476, 13.27953196, 14.54641305,\n",
       "       11.94622686, 14.18261693, 11.99585981, 11.44953544, 12.4555875 ,\n",
       "       11.72249487, 16.2091443 , 12.33058222, 15.70405556,  8.84438267,\n",
       "       13.38616429, 18.57398132, 20.43086529, 16.88916071,  9.94998273,\n",
       "       13.67568678, 12.09162052, 13.26530194, 20.39938641, 18.55248187,\n",
       "       22.82944408, 13.2185703 , 12.56107765, 12.38526518, 17.56811017,\n",
       "       17.81619763, 15.36977367, 17.09172636, 14.32908009, 13.26311357,\n",
       "       14.43458523, 11.87632281, 17.86745767, 18.39465221, 15.91014608,\n",
       "       13.92647024,  8.51274194, 16.59021487, 12.0401406 , 13.26622054,\n",
       "       18.95600488, 12.30591195, 18.68878558, 17.19288429, 18.16738262,\n",
       "       18.80668491, 10.89677458, 17.23750425, 10.40162686,  9.13687157,\n",
       "       11.19192979, 19.6357958 , 12.88011193, 14.44846939, 14.11274497,\n",
       "       18.86034465, 17.01396194, 20.71415887, 16.86135484, 15.32383166,\n",
       "       13.49464772, 12.32375102, 22.40721557, 14.00019335, 17.6635319 ,\n",
       "       17.83208972, 15.71841761,  8.92285856,  9.72294398,  9.65119413,\n",
       "       19.6421423 , 13.43894448, 15.62505943, 18.02867247, 19.89599415,\n",
       "       16.50695892, 19.9489718 , 17.24890448, 10.60515829, 19.7674274 ,\n",
       "       14.71902998, 11.55791874, 13.97662309, 13.01590993, 23.86205213,\n",
       "       19.28554554, 17.66516722, 13.39547309, 22.49774196, 10.41505309,\n",
       "       15.51716135, 16.63598378, 12.77930853, 17.70447195, 12.5408857 ,\n",
       "       11.45799264, 17.14250081, 13.93772601, 16.06000309, 11.78068181,\n",
       "       11.42459709, 14.39997851, 15.82807401, 16.73120934, 12.79987893,\n",
       "       13.58568399, 14.73100604, 11.36581534, 10.0622757 , 11.67403431,\n",
       "       11.04826666, 14.8400582 , 13.46062067, 15.68523675, 11.49956291,\n",
       "        6.43683921, 11.45355269, 14.27347071, 16.76545261, 14.03237931,\n",
       "       16.22219454, 15.85987424, 11.21081437, 13.67358208, 14.0494934 ,\n",
       "       16.8125613 , 10.72938723, 16.4024    , 15.09442671, 17.61222861,\n",
       "       12.14686503, 10.41890329, 19.57354481, 15.37027115, 17.27798361,\n",
       "       15.08803918, 14.902714  , 14.85576954, 18.42597315, 15.04915925,\n",
       "       11.74315522, 11.2567107 , 16.03909575, 14.96567861, 13.54789723,\n",
       "       15.55786214, 22.00443401,  9.61195307, 14.92510105, 16.0273506 ,\n",
       "       14.98736321, 15.94314774, 15.77449738, 16.95305969, 13.25705858,\n",
       "       10.75194056, 14.48800517, 10.6911566 , 11.05842683, 17.45418354,\n",
       "       11.07551775, 18.63850605, 14.59809227,  8.36538953, 17.33477418,\n",
       "        8.53728227, 16.2385632 , 12.70263578, 15.3954839 , 18.27738887,\n",
       "       11.79867454, 14.70304677, 16.44943371, 12.29919309, 11.38691245,\n",
       "       15.7962729 , 13.60652158, 12.46899989, 10.39224033, 14.26901387,\n",
       "       17.37911199, 15.87303678, 13.95827253, 13.09214331, 16.10780743,\n",
       "       13.14461319, 14.10570595,  9.62456657, 16.17477981, 16.83174048,\n",
       "       16.34172127, 15.09304024, 12.43845711,  8.59268517, 21.87730357,\n",
       "       21.67692976, 18.23187362, 15.01522954, 16.79945418, 21.1125178 ,\n",
       "       11.34512471, 11.88588827, 12.83236364, 12.68715376, 17.30104331,\n",
       "       12.02322338, 16.03895064, 16.79730346, 13.4535446 , 11.93007448,\n",
       "       12.67073931, 13.56968056,  6.02793379, 10.71651382, 19.03635122,\n",
       "       14.17804812, 11.24663016, 16.68440478, 17.83015674, 18.21062904,\n",
       "       17.39076084, 18.38304465, 13.06089465, 16.96986869, 11.82579497,\n",
       "        9.48567177, 19.48921883, 16.80243717, 12.74837202, 21.21705577,\n",
       "       12.81374664,  9.6442406 , 12.41718928, 12.60379507, 18.27120839,\n",
       "       17.66007495, 17.02889064, 15.37391301,  6.92288943, 16.74614366,\n",
       "       16.68574137, 15.49742384, 14.97316688, 12.53879101, 10.91398229,\n",
       "       15.45745736, 19.60361819, 12.62035892, 13.77685924,  9.67583806,\n",
       "        7.44401219,  8.74831943, 14.63991979, 16.94437446, 11.59746769,\n",
       "       19.62345958, 15.6547571 ,  9.7388547 , 10.80319264, 16.16103744,\n",
       "       13.75959835, 13.88475631, 12.95843545, 14.3369645 , 12.60712909,\n",
       "       11.24733396, 17.47294486, 13.03243775, 10.6686085 , 16.83671702,\n",
       "       12.01790711, 13.00320552, 13.41280825, 15.4919978 , 14.90435164,\n",
       "       13.06135362, 17.53988824, 17.43264069, 18.9520887 , 14.01255102,\n",
       "       13.77506309, 16.7909314 , 17.51846876, 15.99514503, 14.80354194,\n",
       "        7.68067305, 15.35266882, 14.27926843, 11.90745215, 10.37551289,\n",
       "       15.98468366, 12.33195091, 11.6296716 , 16.26950523, 13.28502647,\n",
       "       21.91119651, 11.55739591, 15.15633659, 18.52528372, 14.7954624 ,\n",
       "       21.40586151, 13.42935077, 18.48346886, 15.77023082, 12.57655976,\n",
       "       15.48967737, 17.18935756, 18.46809943, 16.37922025, 18.62817504,\n",
       "       17.95368247, 10.32435371, 12.61693244, 14.83365513, 14.64698683,\n",
       "       17.8915532 ,  8.28969639, 13.43593311, 17.00940369, 14.45280064,\n",
       "       15.68681661, 12.51139006, 17.55122025, 15.16838855, 16.47289429,\n",
       "       18.95237956, 14.87630498, 11.45233205,  9.52929037, 11.65438565,\n",
       "       12.2858634 , 16.66919884, 21.07595285, 13.81746015,  9.12178847,\n",
       "       15.7376201 , 14.34255692, 13.53653666, 15.05857834, 15.3822538 ,\n",
       "       14.2956828 , 15.0326774 , 18.84321132, 18.42472083, 13.5564778 ,\n",
       "       13.50151878, 14.7637955 , 18.14814265, 12.85715661, 11.1279331 ,\n",
       "       14.63318142, 10.26546256, 13.77475706, 20.9315263 , 19.43665954,\n",
       "       15.81058357, 18.72316382, 13.45720988, 19.52222711, 18.31843231,\n",
       "       18.66149502, 18.67046253, 18.36066465, 15.61488137, 13.69270927,\n",
       "        6.8531534 , 13.94584288, 18.91355387, 17.14192528, 17.19439953,\n",
       "       19.92702405, 16.80859805, 17.95391791, 14.4274002 , 15.67469709,\n",
       "       10.24856002, 10.01773033, 12.94729046, 13.18500005, 15.9478984 ,\n",
       "       15.53612862, 10.93571158, 19.94262407, 17.46151764, 12.69811756,\n",
       "       11.39751393, 16.08718202, 13.7486879 , 19.10108306, 19.17396994,\n",
       "       18.63364739, 19.03321435, 15.75628087, 10.36966663, 18.00317884,\n",
       "       12.99493334, 18.28603738, 12.4766167 , 10.62305011, 19.35103051,\n",
       "       11.57642632, 12.6805973 , 21.52377229, 10.90818228, 15.13881973,\n",
       "       18.28466127, 19.34608236, 16.54458522, 15.53569608, 14.24852119,\n",
       "       11.16811551, 14.77235453, 11.96453196, 15.73811353,  9.71871026,\n",
       "       14.80733718, 18.84066861, 18.33857178, 11.86774904, 16.52749943,\n",
       "       12.35632974, 13.98616845,  8.64271527, 21.65124238, 11.97581022,\n",
       "       13.10807069, 16.20617759,  9.80735933, 14.37062676, 12.34470272,\n",
       "       11.73429153, 18.60003726, 17.31456021, 15.13066517, 15.56464779,\n",
       "        8.09987087, 12.0863939 , 19.91588229, 17.35428586, 16.43631538,\n",
       "       13.05022854, 15.84143869, 13.72766292,  8.92198477, 16.35357629,\n",
       "       13.45764837, 16.77156791, 11.36111596, 16.55652227, 14.55742378,\n",
       "       15.80540739, 13.9077433 , 16.72616442, 19.87552112, 15.09287874,\n",
       "       13.34905766, 14.86171967, 20.19248983, 16.55004377, 11.67764303,\n",
       "       13.64708226, 15.81713112, 17.16670776, 22.35139073, 17.04023507,\n",
       "       12.91146985, 14.40339861, 17.71946855, 12.60102116, 14.77368813,\n",
       "        6.49615611, 15.26071968, 14.87243006, 16.53119104, 13.6429311 ,\n",
       "       21.48620743, 11.38279037, 16.80312405, 13.06149463, 12.37372786,\n",
       "       17.75418466, 12.46463035, 14.31351484, 21.29251834, 12.07437404,\n",
       "       14.25813216, 14.41982205, 16.86469936, 20.12010048, 12.08027847,\n",
       "       13.83404286, 20.8034281 , 14.20613053, 15.59921571, 18.00466101,\n",
       "       14.83039878,  8.66111696, 17.03609702, 14.90115404, 17.64999035,\n",
       "        5.27033924, 12.95419316, 14.32493844, 13.62717422, 15.54090279,\n",
       "       14.87770114, 11.00360842, 14.07827573, 19.45560393, 13.91156101,\n",
       "       20.08376557, 16.55693303, 16.33492385, 18.92847087, 11.16946868,\n",
       "       16.3559473 ,  9.53049578,  9.72650929, 14.22118256, 15.17069328,\n",
       "       20.32174529, 15.5357276 , 15.31651899, 17.39410877, 16.70169667,\n",
       "       16.41946082,  8.06554674, 15.37923102, 10.8458774 , 22.27139106,\n",
       "       15.97711999, 17.04659945,  9.46114267, 16.53370316,  9.74832112,\n",
       "       16.77959148, 19.35728241,  9.98557133, 17.85293578, 15.4950982 ,\n",
       "       18.4919623 , 14.29220028, 18.2677913 , 19.58981704,  8.39881852,\n",
       "       20.32309097,  8.51862194, 18.24197921,  6.12185299,  8.77416526,\n",
       "       14.83503632, 13.53744707, 15.73019132, 13.72693645, 18.22752292,\n",
       "       15.16933478, 14.9911795 , 15.90852642, 13.36524908, 19.35417392,\n",
       "       15.38763059, 13.07268892, 17.24563313, 16.66504349, 13.83530316,\n",
       "       13.58304941, 19.30180368, 14.4094546 , 20.2488365 , 10.80731032,\n",
       "       18.52360313, 15.66283852, 16.04151738, 12.8099522 , 16.57298111,\n",
       "       14.25619694, 21.14689728, 14.13997038, 17.24869233, 14.54143337,\n",
       "       16.15880331, 20.54400252, 17.66880402, 20.15415853, 16.25486994,\n",
       "       14.59014182, 19.58611401, 25.06303724, 14.43574267, 13.05771677])"
      ]
     },
     "execution_count": 112,
     "metadata": {},
     "output_type": "execute_result"
    }
   ],
   "source": [
    "pop_friday = poptarts.sum(axis=1)\n",
    "pop_friday"
   ]
  },
  {
   "cell_type": "code",
   "execution_count": 113,
   "id": "b26b3e5a",
   "metadata": {},
   "outputs": [
    {
     "data": {
      "text/plain": [
       "array([False, False,  True,  True,  True,  True,  True,  True,  True,\n",
       "       False, False,  True, False,  True, False,  True,  True,  True,\n",
       "        True,  True, False, False, False, False,  True, False,  True,\n",
       "        True, False,  True,  True, False, False, False, False,  True,\n",
       "        True,  True, False, False,  True,  True,  True, False,  True,\n",
       "       False,  True, False,  True,  True, False,  True,  True,  True,\n",
       "       False,  True, False,  True, False, False, False,  True,  True,\n",
       "        True,  True, False, False, False,  True, False, False, False,\n",
       "        True,  True,  True, False, False, False,  True,  True,  True,\n",
       "        True, False, False,  True,  True, False, False, False, False,\n",
       "        True,  True,  True,  True,  True, False,  True, False,  True,\n",
       "        True,  True, False, False, False, False, False,  True,  True,\n",
       "        True,  True,  True, False,  True,  True, False,  True, False,\n",
       "       False,  True,  True, False,  True, False,  True,  True, False,\n",
       "        True,  True,  True,  True,  True, False,  True, False,  True,\n",
       "        True, False, False, False,  True,  True,  True,  True, False,\n",
       "       False, False, False,  True, False, False, False,  True,  True,\n",
       "        True,  True,  True,  True, False, False, False,  True,  True,\n",
       "       False,  True, False, False, False, False,  True,  True, False,\n",
       "        True,  True,  True,  True,  True,  True,  True,  True,  True,\n",
       "        True,  True,  True,  True, False,  True, False, False,  True,\n",
       "        True,  True,  True,  True, False, False,  True, False, False,\n",
       "        True,  True, False,  True,  True, False,  True,  True, False,\n",
       "       False,  True,  True, False, False,  True,  True,  True,  True,\n",
       "       False, False, False, False, False,  True, False, False, False,\n",
       "        True,  True,  True, False,  True, False,  True, False, False,\n",
       "       False,  True,  True,  True,  True, False,  True,  True, False,\n",
       "       False,  True,  True, False,  True,  True, False,  True,  True,\n",
       "       False, False,  True, False, False, False,  True, False,  True,\n",
       "        True, False,  True, False,  True, False,  True,  True, False,\n",
       "       False,  True, False,  True,  True,  True,  True, False,  True,\n",
       "        True, False,  True,  True,  True,  True,  True, False, False,\n",
       "        True,  True, False,  True, False,  True, False, False, False,\n",
       "       False,  True, False, False,  True, False, False, False,  True,\n",
       "        True, False,  True,  True, False, False, False,  True,  True,\n",
       "        True, False, False, False,  True,  True,  True,  True, False,\n",
       "       False,  True, False,  True, False,  True,  True,  True,  True,\n",
       "        True,  True,  True,  True,  True,  True,  True, False,  True,\n",
       "        True,  True,  True,  True, False, False, False,  True,  True,\n",
       "        True,  True,  True, False,  True,  True,  True,  True, False,\n",
       "        True, False, False,  True,  True,  True, False, False,  True,\n",
       "        True,  True, False,  True, False,  True, False,  True, False,\n",
       "       False, False,  True,  True,  True, False,  True, False,  True,\n",
       "        True,  True,  True, False, False,  True,  True, False,  True,\n",
       "        True,  True,  True,  True,  True,  True,  True, False,  True,\n",
       "        True,  True,  True,  True,  True,  True,  True,  True,  True,\n",
       "        True,  True, False,  True,  True,  True,  True, False, False,\n",
       "       False,  True,  True,  True,  True, False, False, False,  True,\n",
       "        True,  True, False, False,  True, False,  True,  True,  True,\n",
       "        True, False, False,  True,  True,  True, False,  True,  True,\n",
       "       False,  True, False, False, False, False,  True, False,  True,\n",
       "        True,  True, False,  True,  True,  True, False, False, False,\n",
       "       False,  True,  True,  True, False,  True, False, False,  True,\n",
       "        True,  True,  True, False,  True,  True, False, False, False,\n",
       "       False, False,  True, False,  True,  True,  True,  True, False,\n",
       "       False, False,  True, False,  True,  True, False,  True, False,\n",
       "        True,  True, False,  True, False,  True,  True,  True,  True,\n",
       "       False,  True,  True,  True,  True,  True,  True,  True,  True,\n",
       "        True,  True,  True,  True,  True,  True, False,  True, False,\n",
       "        True,  True,  True,  True, False,  True, False,  True, False,\n",
       "        True,  True, False,  True, False,  True,  True,  True, False,\n",
       "        True,  True,  True, False,  True,  True,  True, False,  True,\n",
       "        True, False,  True,  True,  True, False,  True,  True,  True,\n",
       "        True,  True, False,  True, False,  True,  True, False,  True,\n",
       "       False,  True,  True, False,  True,  True, False,  True,  True,\n",
       "        True,  True,  True,  True,  True, False,  True,  True,  True,\n",
       "       False,  True,  True,  True, False, False, False,  True,  True,\n",
       "        True, False, False, False,  True, False, False,  True,  True,\n",
       "        True,  True, False,  True, False, False,  True,  True,  True,\n",
       "        True,  True,  True, False,  True,  True, False, False, False,\n",
       "       False, False,  True, False,  True,  True, False, False,  True,\n",
       "       False,  True,  True,  True,  True, False, False, False,  True,\n",
       "        True, False, False,  True,  True,  True,  True,  True, False,\n",
       "        True,  True,  True,  True,  True,  True, False,  True, False,\n",
       "        True,  True,  True, False,  True,  True,  True,  True,  True,\n",
       "        True, False,  True,  True, False,  True,  True,  True,  True,\n",
       "        True,  True, False, False, False,  True,  True, False, False,\n",
       "        True,  True,  True,  True,  True,  True,  True,  True,  True,\n",
       "        True, False,  True, False,  True,  True, False,  True, False,\n",
       "        True, False,  True,  True,  True, False, False, False, False,\n",
       "       False,  True,  True,  True,  True, False,  True,  True, False,\n",
       "        True,  True,  True, False,  True, False, False,  True,  True,\n",
       "        True,  True,  True, False, False,  True,  True,  True,  True,\n",
       "        True,  True,  True,  True,  True, False, False,  True,  True,\n",
       "        True, False,  True,  True,  True,  True,  True, False, False,\n",
       "        True, False,  True, False, False, False, False, False,  True,\n",
       "        True,  True,  True, False, False, False, False, False, False,\n",
       "        True,  True,  True,  True,  True,  True,  True,  True,  True,\n",
       "       False, False,  True,  True, False,  True, False, False, False,\n",
       "       False,  True,  True, False,  True, False,  True,  True, False,\n",
       "        True,  True, False,  True,  True, False, False, False,  True,\n",
       "        True,  True,  True,  True,  True,  True,  True, False, False,\n",
       "        True, False,  True,  True,  True, False,  True,  True, False,\n",
       "        True,  True,  True,  True, False, False,  True,  True,  True,\n",
       "        True, False, False, False,  True,  True,  True,  True, False,\n",
       "        True, False,  True, False,  True,  True,  True, False, False,\n",
       "        True,  True,  True, False, False,  True,  True,  True, False,\n",
       "       False, False,  True,  True, False,  True,  True,  True,  True,\n",
       "        True, False,  True, False,  True, False,  True,  True, False,\n",
       "        True,  True, False,  True,  True,  True, False, False,  True,\n",
       "        True, False,  True,  True, False,  True,  True, False,  True,\n",
       "       False,  True,  True,  True,  True,  True,  True,  True,  True,\n",
       "       False,  True, False, False, False, False,  True, False,  True,\n",
       "        True,  True,  True, False,  True,  True, False, False, False,\n",
       "        True,  True,  True, False,  True, False,  True, False,  True,\n",
       "       False, False,  True, False,  True, False,  True, False, False,\n",
       "        True, False,  True, False,  True,  True,  True,  True,  True,\n",
       "        True, False,  True,  True,  True,  True, False,  True,  True,\n",
       "       False, False,  True,  True, False,  True, False,  True, False,\n",
       "        True, False,  True, False,  True, False,  True, False,  True,\n",
       "       False, False, False, False, False,  True, False, False,  True,\n",
       "        True])"
      ]
     },
     "execution_count": 113,
     "metadata": {},
     "output_type": "execute_result"
    }
   ],
   "source": [
    "pop_friday <= 16"
   ]
  },
  {
   "cell_type": "code",
   "execution_count": 115,
   "id": "3e8aeaab",
   "metadata": {},
   "outputs": [
    {
     "data": {
      "text/plain": [
       "0.613"
      ]
     },
     "execution_count": 115,
     "metadata": {},
     "output_type": "execute_result"
    }
   ],
   "source": [
    "pop_f = (pop_friday <= 16).mean()\n",
    "pop_f"
   ]
  },
  {
   "cell_type": "markdown",
   "id": "41a3d63e",
   "metadata": {},
   "source": [
    "5. Compare Heights\n",
    "\n",
    ". Men have an average height of 178 cm and standard deviation of 8cm.\n",
    "\n",
    ". Women have a mean of 170, sd = 6cm.\n",
    "\n",
    ". Since you have means and standard deviations, you can use np.random.normal to generate observations.\n",
    "\n",
    ". If a man and woman are chosen at random, what is the likelihood the woman is taller than the man?\n"
   ]
  },
  {
   "cell_type": "code",
   "execution_count": 122,
   "id": "6d7c128e",
   "metadata": {},
   "outputs": [],
   "source": [
    "men_height = np.random.normal(178, 8, 1_000)\n",
    "women_height = np.random.normal(170, 6, 1_000)"
   ]
  },
  {
   "cell_type": "code",
   "execution_count": 123,
   "id": "38eab7b9",
   "metadata": {},
   "outputs": [
    {
     "data": {
      "text/plain": [
       "array([False, False, False,  True,  True, False, False,  True, False,\n",
       "        True, False, False, False,  True, False,  True, False, False,\n",
       "       False, False, False, False, False, False, False, False, False,\n",
       "       False, False, False, False, False, False, False, False, False,\n",
       "        True, False,  True, False, False, False, False,  True,  True,\n",
       "       False,  True, False, False,  True, False, False, False, False,\n",
       "        True,  True, False, False,  True, False, False, False, False,\n",
       "        True, False, False, False, False, False, False, False,  True,\n",
       "       False, False, False, False, False, False,  True,  True,  True,\n",
       "       False, False,  True, False, False, False, False, False,  True,\n",
       "       False, False, False, False, False,  True, False, False,  True,\n",
       "       False, False, False, False, False, False, False,  True, False,\n",
       "       False, False, False, False, False, False,  True,  True,  True,\n",
       "       False, False, False, False,  True,  True, False, False, False,\n",
       "       False, False,  True, False, False, False, False, False, False,\n",
       "       False, False, False, False, False, False, False, False, False,\n",
       "       False, False, False, False, False, False,  True, False, False,\n",
       "       False,  True, False, False, False, False, False, False, False,\n",
       "       False, False, False, False, False, False, False,  True,  True,\n",
       "        True, False, False,  True, False, False, False, False,  True,\n",
       "       False, False, False, False, False,  True,  True, False, False,\n",
       "       False, False, False, False,  True, False, False, False, False,\n",
       "       False, False, False,  True, False, False,  True,  True, False,\n",
       "       False, False, False, False, False, False, False,  True,  True,\n",
       "       False, False,  True, False, False, False, False,  True, False,\n",
       "       False, False, False,  True,  True, False, False, False, False,\n",
       "       False, False, False, False, False,  True,  True, False, False,\n",
       "        True, False, False, False, False, False, False, False, False,\n",
       "       False, False, False, False, False, False, False,  True,  True,\n",
       "       False, False, False, False, False, False, False, False, False,\n",
       "        True,  True, False, False, False,  True,  True, False, False,\n",
       "       False, False,  True, False, False, False, False, False, False,\n",
       "       False, False,  True,  True,  True,  True, False, False, False,\n",
       "       False,  True, False, False,  True, False, False, False, False,\n",
       "       False, False, False, False, False, False, False, False, False,\n",
       "       False, False,  True, False,  True, False, False, False, False,\n",
       "       False, False,  True, False,  True, False, False, False, False,\n",
       "       False, False,  True,  True, False, False,  True,  True, False,\n",
       "       False, False, False,  True,  True,  True, False,  True, False,\n",
       "        True, False, False, False, False, False, False, False, False,\n",
       "       False, False, False, False, False,  True,  True, False, False,\n",
       "        True, False, False,  True, False, False, False, False,  True,\n",
       "       False, False, False, False, False, False, False,  True,  True,\n",
       "       False, False, False,  True, False, False, False, False,  True,\n",
       "       False,  True, False,  True,  True,  True,  True, False, False,\n",
       "       False,  True, False, False, False, False,  True, False, False,\n",
       "       False, False, False, False, False, False, False, False, False,\n",
       "        True, False,  True,  True,  True, False, False,  True, False,\n",
       "       False,  True, False, False,  True,  True, False,  True, False,\n",
       "       False, False, False, False,  True, False, False, False, False,\n",
       "        True,  True, False,  True, False, False, False, False, False,\n",
       "        True, False, False,  True,  True, False, False, False,  True,\n",
       "       False, False, False,  True, False, False, False, False, False,\n",
       "       False,  True, False,  True, False,  True,  True,  True,  True,\n",
       "        True, False, False, False, False, False, False, False,  True,\n",
       "       False, False, False, False, False,  True,  True,  True, False,\n",
       "        True, False, False, False, False, False, False, False, False,\n",
       "       False, False, False,  True, False,  True,  True, False, False,\n",
       "       False, False, False, False, False, False, False, False, False,\n",
       "       False, False,  True, False, False, False, False, False, False,\n",
       "       False, False, False, False,  True, False,  True, False, False,\n",
       "       False, False, False, False, False, False,  True, False,  True,\n",
       "       False, False, False, False, False, False, False, False, False,\n",
       "        True, False, False, False,  True, False,  True, False, False,\n",
       "       False, False, False, False, False,  True, False,  True, False,\n",
       "       False, False, False,  True, False, False, False, False, False,\n",
       "       False, False,  True,  True, False, False, False, False, False,\n",
       "       False, False, False, False,  True, False, False, False, False,\n",
       "       False, False, False,  True, False, False, False,  True, False,\n",
       "       False,  True, False, False, False, False, False, False, False,\n",
       "        True, False, False, False,  True, False, False, False, False,\n",
       "       False, False,  True, False,  True,  True, False,  True, False,\n",
       "       False,  True, False, False, False, False, False,  True, False,\n",
       "       False, False,  True,  True, False, False, False, False, False,\n",
       "       False, False,  True,  True, False,  True, False, False, False,\n",
       "       False, False,  True, False, False, False,  True, False, False,\n",
       "        True, False, False, False, False, False, False, False, False,\n",
       "       False, False,  True, False, False, False, False, False, False,\n",
       "       False,  True, False, False, False, False, False, False, False,\n",
       "        True, False,  True, False, False, False, False, False, False,\n",
       "       False,  True, False, False, False, False, False, False,  True,\n",
       "       False,  True, False,  True, False, False, False,  True, False,\n",
       "        True, False, False, False, False,  True,  True, False,  True,\n",
       "       False, False,  True,  True, False, False,  True, False,  True,\n",
       "       False, False, False, False,  True, False, False, False, False,\n",
       "       False, False,  True, False, False, False, False, False, False,\n",
       "       False,  True, False, False,  True, False, False, False, False,\n",
       "        True, False, False, False, False, False, False, False,  True,\n",
       "       False,  True, False, False, False, False, False, False, False,\n",
       "       False, False,  True, False,  True, False,  True, False, False,\n",
       "       False, False, False, False, False, False, False, False, False,\n",
       "        True, False, False, False, False,  True, False, False, False,\n",
       "       False,  True, False, False, False, False, False,  True, False,\n",
       "       False, False,  True, False, False, False, False, False,  True,\n",
       "       False,  True,  True, False, False, False, False, False, False,\n",
       "       False,  True, False, False,  True, False,  True, False, False,\n",
       "       False, False, False, False, False, False, False,  True, False,\n",
       "       False, False, False, False, False, False, False, False, False,\n",
       "       False, False, False,  True,  True, False,  True, False,  True,\n",
       "       False,  True, False, False, False, False,  True, False, False,\n",
       "       False, False, False,  True,  True, False, False, False, False,\n",
       "       False, False, False, False, False, False, False,  True, False,\n",
       "        True, False,  True, False, False, False, False, False, False,\n",
       "       False, False, False,  True, False,  True, False,  True, False,\n",
       "       False,  True, False, False, False,  True, False, False,  True,\n",
       "       False,  True, False, False, False, False, False, False, False,\n",
       "       False, False, False, False, False, False, False, False, False,\n",
       "       False, False, False,  True,  True, False, False,  True, False,\n",
       "       False, False,  True, False, False, False, False, False, False,\n",
       "       False, False, False, False, False, False, False, False, False,\n",
       "       False, False, False, False,  True, False, False, False, False,\n",
       "        True])"
      ]
     },
     "execution_count": 123,
     "metadata": {},
     "output_type": "execute_result"
    }
   ],
   "source": [
    "women_height  > men_height"
   ]
  },
  {
   "cell_type": "code",
   "execution_count": 126,
   "id": "9788c41c",
   "metadata": {},
   "outputs": [
    {
     "data": {
      "text/plain": [
       "0.224"
      ]
     },
     "execution_count": 126,
     "metadata": {},
     "output_type": "execute_result"
    }
   ],
   "source": [
    "choosen_women = (women_height  > men_height).mean()\n",
    "choosen_women"
   ]
  },
  {
   "cell_type": "markdown",
   "id": "6e521993",
   "metadata": {},
   "source": [
    "6. When installing anaconda on a student's computer, there's a 1 in 250 chance that the download is corrupted and the installation fails. What are the odds that after having 50 students download anaconda, no one has an installation issue? 100 students?\n",
    "\n",
    "What is the probability that we observe an installation issue within the first 150 students that download anaconda?\n",
    "\n",
    "How likely is it that 450 students all download anaconda without an issue?"
   ]
  },
  {
   "cell_type": "code",
   "execution_count": 127,
   "id": "542e7b41",
   "metadata": {},
   "outputs": [
    {
     "data": {
      "text/plain": [
       "0.004"
      ]
     },
     "execution_count": 127,
     "metadata": {},
     "output_type": "execute_result"
    }
   ],
   "source": [
    "install_fail = 1/250\n",
    "install_fail"
   ]
  },
  {
   "cell_type": "code",
   "execution_count": 131,
   "id": "214fdb45",
   "metadata": {},
   "outputs": [],
   "source": [
    "first_fifty = np.random.random((1_000, 50))\n",
    "first_100 = np.random.random((1_000, 100))\n",
    "first_150 = np.random.random((1_000, 150))\n",
    "first_450 = np.random.random((1_000, 450))"
   ]
  },
  {
   "cell_type": "code",
   "execution_count": 142,
   "id": "5aa624bd",
   "metadata": {},
   "outputs": [
    {
     "data": {
      "text/plain": [
       "array([[ True,  True,  True, ...,  True,  True,  True],\n",
       "       [ True,  True,  True, ...,  True,  True,  True],\n",
       "       [ True,  True,  True, ...,  True,  True,  True],\n",
       "       ...,\n",
       "       [ True,  True,  True, ...,  True,  True,  True],\n",
       "       [ True,  True,  True, ...,  True,  True,  True],\n",
       "       [ True,  True,  True, ...,  True,  True,  True]])"
      ]
     },
     "execution_count": 142,
     "metadata": {},
     "output_type": "execute_result"
    }
   ],
   "source": [
    "first_fifty > install_fail"
   ]
  },
  {
   "cell_type": "code",
   "execution_count": 143,
   "id": "a40a219f",
   "metadata": {
    "scrolled": true
   },
   "outputs": [
    {
     "data": {
      "text/plain": [
       "array([1.  , 1.  , 1.  , 1.  , 1.  , 0.98, 0.98, 1.  , 0.98, 1.  , 0.98,\n",
       "       1.  , 1.  , 1.  , 0.98, 1.  , 1.  , 1.  , 1.  , 1.  , 1.  , 1.  ,\n",
       "       1.  , 1.  , 0.98, 1.  , 1.  , 1.  , 0.98, 1.  , 1.  , 1.  , 0.98,\n",
       "       0.98, 1.  , 1.  , 1.  , 1.  , 1.  , 1.  , 1.  , 1.  , 1.  , 1.  ,\n",
       "       1.  , 1.  , 1.  , 1.  , 1.  , 1.  , 1.  , 1.  , 1.  , 0.98, 0.98,\n",
       "       1.  , 0.98, 1.  , 1.  , 0.98, 1.  , 1.  , 0.98, 0.98, 1.  , 1.  ,\n",
       "       1.  , 1.  , 1.  , 1.  , 1.  , 0.98, 1.  , 1.  , 1.  , 1.  , 1.  ,\n",
       "       1.  , 1.  , 1.  , 1.  , 0.98, 1.  , 1.  , 1.  , 0.98, 1.  , 1.  ,\n",
       "       0.98, 1.  , 1.  , 1.  , 1.  , 1.  , 1.  , 0.98, 1.  , 1.  , 1.  ,\n",
       "       1.  , 1.  , 0.98, 1.  , 1.  , 1.  , 1.  , 1.  , 1.  , 0.98, 1.  ,\n",
       "       1.  , 1.  , 1.  , 1.  , 1.  , 1.  , 0.98, 1.  , 1.  , 1.  , 1.  ,\n",
       "       1.  , 1.  , 1.  , 1.  , 1.  , 1.  , 1.  , 1.  , 1.  , 1.  , 1.  ,\n",
       "       1.  , 1.  , 0.98, 1.  , 1.  , 0.98, 0.98, 1.  , 1.  , 1.  , 0.98,\n",
       "       1.  , 1.  , 1.  , 1.  , 1.  , 0.98, 1.  , 0.98, 1.  , 1.  , 0.98,\n",
       "       1.  , 1.  , 1.  , 0.98, 1.  , 1.  , 0.98, 1.  , 1.  , 1.  , 1.  ,\n",
       "       0.98, 1.  , 1.  , 1.  , 1.  , 1.  , 1.  , 0.98, 1.  , 1.  , 1.  ,\n",
       "       1.  , 1.  , 1.  , 1.  , 1.  , 1.  , 0.98, 1.  , 1.  , 1.  , 1.  ,\n",
       "       0.96, 1.  , 1.  , 0.98, 1.  , 1.  , 0.98, 0.98, 1.  , 0.98, 1.  ,\n",
       "       1.  , 0.98, 1.  , 1.  , 1.  , 1.  , 1.  , 1.  , 0.98, 1.  , 1.  ,\n",
       "       1.  , 0.98, 1.  , 1.  , 1.  , 0.98, 1.  , 0.98, 1.  , 1.  , 1.  ,\n",
       "       1.  , 1.  , 1.  , 1.  , 1.  , 1.  , 1.  , 1.  , 1.  , 1.  , 1.  ,\n",
       "       1.  , 1.  , 1.  , 1.  , 1.  , 1.  , 1.  , 0.98, 1.  , 1.  , 1.  ,\n",
       "       1.  , 1.  , 1.  , 1.  , 1.  , 1.  , 0.98, 1.  , 1.  , 1.  , 1.  ,\n",
       "       1.  , 0.98, 0.98, 1.  , 1.  , 1.  , 1.  , 1.  , 1.  , 1.  , 1.  ,\n",
       "       0.98, 1.  , 1.  , 1.  , 1.  , 1.  , 1.  , 0.98, 0.98, 1.  , 1.  ,\n",
       "       0.98, 1.  , 0.98, 1.  , 0.98, 1.  , 0.98, 0.98, 1.  , 0.98, 1.  ,\n",
       "       0.98, 1.  , 1.  , 1.  , 1.  , 1.  , 1.  , 0.98, 1.  , 1.  , 1.  ,\n",
       "       1.  , 1.  , 1.  , 0.98, 1.  , 1.  , 1.  , 1.  , 1.  , 1.  , 1.  ,\n",
       "       0.98, 0.98, 0.98, 1.  , 1.  , 1.  , 1.  , 1.  , 1.  , 0.98, 1.  ,\n",
       "       1.  , 1.  , 1.  , 1.  , 1.  , 1.  , 1.  , 1.  , 1.  , 1.  , 1.  ,\n",
       "       1.  , 1.  , 1.  , 1.  , 0.98, 1.  , 1.  , 1.  , 0.98, 1.  , 1.  ,\n",
       "       1.  , 1.  , 0.98, 0.98, 1.  , 1.  , 1.  , 1.  , 0.98, 1.  , 1.  ,\n",
       "       1.  , 1.  , 0.98, 1.  , 1.  , 1.  , 1.  , 0.98, 1.  , 1.  , 1.  ,\n",
       "       1.  , 1.  , 1.  , 1.  , 1.  , 1.  , 1.  , 1.  , 1.  , 1.  , 1.  ,\n",
       "       1.  , 1.  , 1.  , 1.  , 1.  , 1.  , 1.  , 0.98, 1.  , 1.  , 1.  ,\n",
       "       1.  , 0.96, 1.  , 1.  , 1.  , 0.98, 1.  , 1.  , 0.98, 1.  , 1.  ,\n",
       "       1.  , 1.  , 1.  , 1.  , 1.  , 1.  , 1.  , 1.  , 1.  , 1.  , 1.  ,\n",
       "       1.  , 1.  , 1.  , 1.  , 1.  , 0.98, 1.  , 1.  , 1.  , 1.  , 1.  ,\n",
       "       0.98, 0.98, 1.  , 1.  , 1.  , 1.  , 1.  , 1.  , 0.98, 1.  , 0.98,\n",
       "       1.  , 1.  , 1.  , 1.  , 1.  , 1.  , 1.  , 1.  , 1.  , 1.  , 1.  ,\n",
       "       0.98, 1.  , 1.  , 1.  , 1.  , 0.96, 1.  , 1.  , 1.  , 1.  , 1.  ,\n",
       "       1.  , 1.  , 1.  , 1.  , 1.  , 1.  , 1.  , 1.  , 1.  , 1.  , 0.98,\n",
       "       1.  , 0.98, 1.  , 1.  , 0.98, 1.  , 1.  , 1.  , 1.  , 0.98, 0.98,\n",
       "       1.  , 1.  , 1.  , 1.  , 1.  , 1.  , 0.98, 1.  , 0.98, 0.98, 1.  ,\n",
       "       1.  , 0.98, 1.  , 1.  , 1.  , 1.  , 1.  , 1.  , 1.  , 1.  , 1.  ,\n",
       "       1.  , 1.  , 1.  , 1.  , 1.  , 1.  , 1.  , 1.  , 1.  , 1.  , 1.  ,\n",
       "       1.  , 1.  , 1.  , 0.98, 1.  , 1.  , 1.  , 1.  , 1.  , 1.  , 1.  ,\n",
       "       1.  , 0.98, 1.  , 1.  , 1.  , 1.  , 1.  , 1.  , 1.  , 1.  , 1.  ,\n",
       "       1.  , 1.  , 1.  , 0.98, 0.98, 1.  , 1.  , 1.  , 1.  , 0.98, 1.  ,\n",
       "       0.98, 1.  , 1.  , 1.  , 0.98, 1.  , 1.  , 1.  , 1.  , 0.98, 1.  ,\n",
       "       1.  , 1.  , 1.  , 1.  , 1.  , 1.  , 1.  , 1.  , 1.  , 1.  , 1.  ,\n",
       "       1.  , 1.  , 0.98, 1.  , 1.  , 1.  , 0.98, 1.  , 1.  , 1.  , 1.  ,\n",
       "       1.  , 1.  , 1.  , 0.98, 1.  , 1.  , 1.  , 1.  , 1.  , 1.  , 1.  ,\n",
       "       1.  , 1.  , 1.  , 0.98, 1.  , 1.  , 1.  , 1.  , 0.98, 1.  , 1.  ,\n",
       "       1.  , 1.  , 1.  , 1.  , 1.  , 1.  , 0.98, 1.  , 1.  , 1.  , 0.98,\n",
       "       1.  , 1.  , 1.  , 1.  , 1.  , 1.  , 1.  , 1.  , 1.  , 1.  , 0.98,\n",
       "       0.98, 1.  , 1.  , 0.98, 0.98, 1.  , 1.  , 1.  , 0.98, 1.  , 1.  ,\n",
       "       0.98, 1.  , 1.  , 1.  , 1.  , 1.  , 0.98, 1.  , 1.  , 1.  , 1.  ,\n",
       "       1.  , 1.  , 1.  , 1.  , 1.  , 1.  , 1.  , 1.  , 0.94, 1.  , 0.98,\n",
       "       1.  , 1.  , 1.  , 1.  , 1.  , 1.  , 1.  , 1.  , 1.  , 0.98, 1.  ,\n",
       "       1.  , 1.  , 1.  , 1.  , 1.  , 0.98, 1.  , 0.98, 1.  , 1.  , 1.  ,\n",
       "       1.  , 1.  , 1.  , 1.  , 1.  , 0.98, 1.  , 1.  , 1.  , 1.  , 1.  ,\n",
       "       1.  , 1.  , 1.  , 1.  , 1.  , 1.  , 1.  , 1.  , 1.  , 1.  , 1.  ,\n",
       "       1.  , 1.  , 1.  , 1.  , 1.  , 1.  , 1.  , 1.  , 1.  , 0.98, 1.  ,\n",
       "       1.  , 1.  , 1.  , 1.  , 1.  , 1.  , 0.98, 1.  , 1.  , 1.  , 1.  ,\n",
       "       1.  , 1.  , 1.  , 1.  , 0.96, 1.  , 1.  , 1.  , 1.  , 1.  , 1.  ,\n",
       "       1.  , 1.  , 0.98, 1.  , 0.98, 1.  , 1.  , 1.  , 1.  , 1.  , 1.  ,\n",
       "       0.98, 1.  , 1.  , 1.  , 0.98, 1.  , 1.  , 1.  , 0.98, 0.98, 1.  ,\n",
       "       0.98, 1.  , 0.96, 1.  , 1.  , 1.  , 1.  , 1.  , 1.  , 1.  , 1.  ,\n",
       "       1.  , 1.  , 1.  , 1.  , 1.  , 1.  , 1.  , 1.  , 0.98, 1.  , 1.  ,\n",
       "       1.  , 0.98, 1.  , 1.  , 1.  , 1.  , 1.  , 1.  , 1.  , 0.96, 1.  ,\n",
       "       1.  , 1.  , 1.  , 1.  , 1.  , 0.96, 0.98, 1.  , 1.  , 1.  , 1.  ,\n",
       "       1.  , 1.  , 1.  , 1.  , 0.96, 0.98, 1.  , 1.  , 1.  , 1.  , 0.98,\n",
       "       1.  , 1.  , 1.  , 1.  , 1.  , 1.  , 1.  , 1.  , 1.  , 1.  , 1.  ,\n",
       "       0.98, 0.98, 0.98, 1.  , 1.  , 1.  , 1.  , 1.  , 1.  , 1.  , 1.  ,\n",
       "       0.98, 1.  , 1.  , 1.  , 1.  , 1.  , 1.  , 0.98, 1.  , 1.  , 1.  ,\n",
       "       1.  , 0.98, 1.  , 1.  , 1.  , 1.  , 1.  , 1.  , 1.  , 1.  , 1.  ,\n",
       "       1.  , 1.  , 1.  , 1.  , 0.98, 1.  , 1.  , 1.  , 0.98, 1.  , 1.  ,\n",
       "       0.98, 1.  , 1.  , 1.  , 1.  , 1.  , 0.98, 1.  , 1.  , 1.  , 1.  ,\n",
       "       0.98, 1.  , 1.  , 1.  , 1.  , 1.  , 0.98, 1.  , 0.98, 1.  , 1.  ,\n",
       "       0.98, 1.  , 1.  , 1.  , 1.  , 1.  , 1.  , 0.98, 0.98, 1.  , 0.98,\n",
       "       0.98, 0.98, 1.  , 1.  , 1.  , 0.98, 1.  , 0.98, 1.  , 1.  , 1.  ,\n",
       "       1.  , 1.  , 1.  , 0.98, 0.98, 1.  , 1.  , 1.  , 1.  , 1.  , 1.  ,\n",
       "       1.  , 1.  , 1.  , 1.  , 1.  , 1.  , 0.98, 1.  , 1.  , 0.98, 1.  ,\n",
       "       1.  , 1.  , 1.  , 1.  , 1.  , 1.  , 1.  , 1.  , 0.98, 1.  , 0.98,\n",
       "       1.  , 1.  , 0.98, 1.  , 1.  , 1.  , 1.  , 1.  , 1.  , 1.  , 0.98,\n",
       "       1.  , 1.  , 1.  , 1.  , 1.  , 0.98, 1.  , 1.  , 1.  , 1.  , 1.  ,\n",
       "       1.  , 1.  , 1.  , 1.  , 1.  , 0.98, 0.98, 1.  , 1.  , 1.  , 1.  ,\n",
       "       1.  , 1.  , 0.98, 1.  , 1.  , 1.  , 1.  , 0.98, 1.  , 1.  , 1.  ,\n",
       "       1.  , 1.  , 1.  , 1.  , 1.  , 0.96, 1.  , 1.  , 1.  , 1.  , 1.  ,\n",
       "       1.  , 0.98, 1.  , 1.  , 1.  , 1.  , 1.  , 1.  , 0.98, 1.  ])"
      ]
     },
     "execution_count": 143,
     "metadata": {},
     "output_type": "execute_result"
    }
   ],
   "source": [
    "no_issue = (first_fifty > install_fail).mean(axis=1)\n",
    "no_issue"
   ]
  },
  {
   "cell_type": "code",
   "execution_count": 146,
   "id": "b619d231",
   "metadata": {
    "scrolled": true
   },
   "outputs": [
    {
     "data": {
      "text/plain": [
       "0.99626"
      ]
     },
     "execution_count": 146,
     "metadata": {},
     "output_type": "execute_result"
    }
   ],
   "source": [
    "no_issue.sum()/len(no_issue)"
   ]
  },
  {
   "cell_type": "code",
   "execution_count": 148,
   "id": "391b52e1",
   "metadata": {},
   "outputs": [
    {
     "data": {
      "text/plain": [
       "array([[ True,  True,  True, ...,  True,  True,  True],\n",
       "       [ True,  True,  True, ...,  True,  True,  True],\n",
       "       [ True,  True,  True, ...,  True,  True,  True],\n",
       "       ...,\n",
       "       [ True,  True,  True, ...,  True,  True,  True],\n",
       "       [ True,  True,  True, ...,  True,  True,  True],\n",
       "       [ True,  True,  True, ...,  True,  True,  True]])"
      ]
     },
     "execution_count": 148,
     "metadata": {},
     "output_type": "execute_result"
    }
   ],
   "source": [
    "first_100 > install_fail"
   ]
  },
  {
   "cell_type": "code",
   "execution_count": 149,
   "id": "35434079",
   "metadata": {
    "scrolled": true
   },
   "outputs": [
    {
     "data": {
      "text/plain": [
       "0.99632"
      ]
     },
     "execution_count": 149,
     "metadata": {},
     "output_type": "execute_result"
    }
   ],
   "source": [
    "still_no_issue = (first_100 > install_fail).mean()\n",
    "still_no_issue"
   ]
  },
  {
   "cell_type": "code",
   "execution_count": 157,
   "id": "ebde3876",
   "metadata": {},
   "outputs": [
    {
     "data": {
      "text/plain": [
       "array([[False, False, False, ..., False, False, False],\n",
       "       [False, False, False, ..., False, False, False],\n",
       "       [False, False, False, ..., False, False, False],\n",
       "       ...,\n",
       "       [False, False, False, ..., False, False, False],\n",
       "       [False, False, False, ..., False, False, False],\n",
       "       [False, False, False, ..., False, False, False]])"
      ]
     },
     "execution_count": 157,
     "metadata": {},
     "output_type": "execute_result"
    }
   ],
   "source": [
    "first_150 < install_fail"
   ]
  },
  {
   "cell_type": "code",
   "execution_count": 160,
   "id": "c81059af",
   "metadata": {
    "scrolled": true
   },
   "outputs": [
    {
     "data": {
      "text/plain": [
       "array([2, 1, 0, 1, 2, 1, 1, 1, 1, 0, 1, 1, 1, 0, 0, 0, 1, 1, 0, 1, 0, 1,\n",
       "       0, 0, 0, 0, 0, 0, 0, 0, 1, 0, 0, 0, 1, 0, 0, 0, 1, 2, 1, 0, 0, 0,\n",
       "       1, 0, 0, 1, 0, 2, 0, 1, 0, 0, 0, 0, 0, 0, 1, 3, 0, 1, 1, 1, 0, 0,\n",
       "       0, 0, 0, 1, 1, 0, 0, 0, 0, 1, 0, 0, 1, 0, 0, 0, 1, 0, 1, 0, 0, 1,\n",
       "       1, 1, 0, 3, 1, 0, 1, 0, 0, 0, 0, 1, 2, 0, 0, 1, 0, 0, 0, 0, 0, 0,\n",
       "       0, 1, 2, 2, 1, 1, 1, 0, 1, 0, 1, 0, 0, 0, 2, 2, 2, 2, 0, 1, 1, 0,\n",
       "       2, 0, 0, 1, 0, 2, 1, 2, 0, 0, 0, 0, 0, 1, 2, 3, 0, 0, 0, 0, 0, 1,\n",
       "       0, 1, 0, 1, 1, 2, 0, 0, 0, 1, 0, 2, 1, 0, 2, 1, 1, 0, 2, 0, 2, 1,\n",
       "       0, 1, 1, 1, 0, 0, 0, 0, 0, 1, 1, 1, 0, 2, 1, 0, 1, 0, 2, 1, 1, 1,\n",
       "       1, 0, 0, 2, 0, 0, 1, 0, 1, 1, 0, 0, 2, 0, 0, 0, 0, 1, 0, 0, 2, 0,\n",
       "       1, 1, 1, 0, 1, 1, 2, 0, 0, 1, 0, 1, 0, 0, 0, 0, 1, 1, 0, 1, 0, 1,\n",
       "       0, 1, 1, 1, 0, 1, 0, 1, 0, 1, 1, 1, 1, 2, 0, 0, 1, 0, 0, 0, 0, 0,\n",
       "       0, 1, 0, 0, 0, 0, 0, 0, 0, 0, 0, 0, 0, 0, 0, 1, 0, 1, 1, 0, 1, 0,\n",
       "       1, 1, 1, 0, 2, 0, 3, 0, 1, 0, 0, 0, 0, 1, 1, 2, 2, 0, 0, 2, 2, 1,\n",
       "       0, 0, 0, 1, 0, 0, 1, 1, 1, 0, 1, 0, 1, 1, 0, 1, 2, 0, 0, 0, 0, 0,\n",
       "       0, 0, 1, 1, 0, 1, 2, 0, 2, 0, 1, 2, 2, 1, 1, 0, 0, 0, 0, 1, 0, 0,\n",
       "       1, 1, 0, 2, 0, 2, 0, 0, 0, 2, 0, 2, 1, 1, 1, 1, 1, 0, 0, 0, 1, 0,\n",
       "       0, 0, 2, 0, 0, 0, 2, 0, 0, 0, 1, 0, 1, 1, 3, 0, 0, 0, 0, 0, 0, 0,\n",
       "       0, 0, 0, 0, 0, 0, 0, 1, 0, 1, 0, 2, 1, 1, 1, 0, 1, 1, 0, 1, 1, 0,\n",
       "       1, 0, 1, 2, 0, 0, 0, 1, 1, 0, 1, 1, 0, 0, 0, 0, 0, 0, 0, 2, 1, 0,\n",
       "       0, 0, 0, 1, 0, 1, 1, 0, 1, 0, 0, 1, 1, 1, 1, 1, 1, 2, 1, 0, 3, 0,\n",
       "       2, 0, 1, 0, 0, 1, 0, 0, 0, 0, 1, 1, 0, 0, 1, 0, 1, 1, 2, 1, 2, 1,\n",
       "       1, 2, 1, 0, 1, 2, 0, 0, 0, 0, 0, 0, 1, 2, 0, 1, 2, 1, 0, 1, 0, 0,\n",
       "       0, 1, 0, 1, 1, 0, 1, 0, 1, 1, 0, 0, 1, 1, 0, 2, 1, 0, 2, 0, 1, 2,\n",
       "       1, 2, 0, 1, 1, 0, 0, 3, 2, 1, 0, 3, 0, 0, 3, 0, 0, 0, 1, 1, 4, 0,\n",
       "       1, 0, 0, 2, 0, 1, 0, 0, 2, 0, 0, 0, 1, 0, 1, 3, 1, 0, 0, 0, 0, 0,\n",
       "       0, 1, 1, 0, 0, 0, 1, 0, 0, 0, 0, 0, 2, 2, 0, 2, 1, 2, 0, 0, 0, 0,\n",
       "       1, 0, 0, 1, 2, 1, 0, 0, 1, 0, 0, 0, 0, 0, 2, 0, 0, 1, 0, 0, 0, 2,\n",
       "       0, 1, 0, 0, 0, 0, 0, 1, 0, 1, 1, 0, 1, 0, 4, 1, 0, 0, 0, 0, 0, 0,\n",
       "       1, 1, 0, 1, 0, 0, 0, 1, 0, 1, 1, 1, 1, 1, 0, 1, 1, 0, 0, 0, 0, 0,\n",
       "       1, 0, 0, 0, 1, 3, 0, 0, 0, 1, 1, 0, 1, 1, 4, 0, 0, 0, 1, 0, 0, 0,\n",
       "       0, 1, 0, 2, 1, 1, 1, 0, 1, 0, 1, 1, 0, 1, 0, 0, 2, 0, 1, 0, 0, 0,\n",
       "       2, 0, 0, 1, 0, 0, 0, 1, 0, 0, 0, 0, 0, 1, 1, 0, 2, 1, 0, 0, 1, 0,\n",
       "       0, 0, 0, 0, 0, 2, 0, 0, 0, 0, 0, 1, 1, 1, 3, 3, 1, 0, 0, 0, 2, 0,\n",
       "       1, 1, 0, 0, 0, 0, 2, 1, 0, 0, 0, 1, 0, 2, 0, 2, 0, 0, 1, 0, 2, 1,\n",
       "       0, 1, 0, 0, 1, 1, 0, 2, 1, 0, 0, 1, 0, 1, 0, 0, 0, 3, 0, 0, 0, 0,\n",
       "       2, 1, 0, 0, 0, 0, 3, 1, 0, 1, 4, 0, 0, 0, 1, 1, 0, 0, 1, 1, 1, 1,\n",
       "       1, 0, 2, 0, 0, 0, 1, 3, 1, 1, 1, 1, 0, 0, 2, 0, 1, 1, 0, 0, 0, 0,\n",
       "       1, 0, 0, 0, 0, 0, 1, 0, 0, 0, 0, 0, 0, 2, 0, 1, 1, 0, 1, 0, 0, 0,\n",
       "       0, 0, 0, 0, 1, 0, 1, 0, 0, 0, 1, 2, 0, 1, 0, 1, 2, 0, 0, 0, 0, 1,\n",
       "       0, 0, 1, 0, 0, 0, 2, 0, 0, 0, 1, 0, 1, 0, 1, 2, 1, 0, 2, 0, 1, 1,\n",
       "       2, 3, 0, 0, 2, 0, 0, 2, 0, 0, 0, 0, 2, 1, 0, 1, 0, 1, 0, 0, 2, 0,\n",
       "       1, 1, 0, 0, 0, 1, 0, 0, 0, 0, 0, 0, 0, 0, 1, 0, 0, 0, 0, 1, 1, 2,\n",
       "       0, 3, 0, 0, 0, 0, 0, 2, 0, 1, 0, 1, 0, 0, 1, 1, 0, 0, 0, 2, 1, 1,\n",
       "       1, 0, 3, 1, 1, 3, 0, 0, 0, 0, 2, 0, 0, 0, 1, 0, 1, 1, 0, 1, 0, 0,\n",
       "       1, 0, 0, 1, 0, 0, 0, 1, 0, 0])"
      ]
     },
     "execution_count": 160,
     "metadata": {},
     "output_type": "execute_result"
    }
   ],
   "source": [
    "first_issue = (first_150 < install_fail).sum(axis=1)\n",
    "first_issue"
   ]
  },
  {
   "cell_type": "code",
   "execution_count": 161,
   "id": "570db1ab",
   "metadata": {},
   "outputs": [
    {
     "data": {
      "text/plain": [
       "array([ True,  True, False,  True,  True,  True,  True,  True,  True,\n",
       "       False,  True,  True,  True, False, False, False,  True,  True,\n",
       "       False,  True, False,  True, False, False, False, False, False,\n",
       "       False, False, False,  True, False, False, False,  True, False,\n",
       "       False, False,  True,  True,  True, False, False, False,  True,\n",
       "       False, False,  True, False,  True, False,  True, False, False,\n",
       "       False, False, False, False,  True,  True, False,  True,  True,\n",
       "        True, False, False, False, False, False,  True,  True, False,\n",
       "       False, False, False,  True, False, False,  True, False, False,\n",
       "       False,  True, False,  True, False, False,  True,  True,  True,\n",
       "       False,  True,  True, False,  True, False, False, False, False,\n",
       "        True,  True, False, False,  True, False, False, False, False,\n",
       "       False, False, False,  True,  True,  True,  True,  True,  True,\n",
       "       False,  True, False,  True, False, False, False,  True,  True,\n",
       "        True,  True, False,  True,  True, False,  True, False, False,\n",
       "        True, False,  True,  True,  True, False, False, False, False,\n",
       "       False,  True,  True,  True, False, False, False, False, False,\n",
       "        True, False,  True, False,  True,  True,  True, False, False,\n",
       "       False,  True, False,  True,  True, False,  True,  True,  True,\n",
       "       False,  True, False,  True,  True, False,  True,  True,  True,\n",
       "       False, False, False, False, False,  True,  True,  True, False,\n",
       "        True,  True, False,  True, False,  True,  True,  True,  True,\n",
       "        True, False, False,  True, False, False,  True, False,  True,\n",
       "        True, False, False,  True, False, False, False, False,  True,\n",
       "       False, False,  True, False,  True,  True,  True, False,  True,\n",
       "        True,  True, False, False,  True, False,  True, False, False,\n",
       "       False, False,  True,  True, False,  True, False,  True, False,\n",
       "        True,  True,  True, False,  True, False,  True, False,  True,\n",
       "        True,  True,  True,  True, False, False,  True, False, False,\n",
       "       False, False, False, False,  True, False, False, False, False,\n",
       "       False, False, False, False, False, False, False, False, False,\n",
       "        True, False,  True,  True, False,  True, False,  True,  True,\n",
       "        True, False,  True, False,  True, False,  True, False, False,\n",
       "       False, False,  True,  True,  True,  True, False, False,  True,\n",
       "        True,  True, False, False, False,  True, False, False,  True,\n",
       "        True,  True, False,  True, False,  True,  True, False,  True,\n",
       "        True, False, False, False, False, False, False, False,  True,\n",
       "        True, False,  True,  True, False,  True, False,  True,  True,\n",
       "        True,  True,  True, False, False, False, False,  True, False,\n",
       "       False,  True,  True, False,  True, False,  True, False, False,\n",
       "       False,  True, False,  True,  True,  True,  True,  True,  True,\n",
       "       False, False, False,  True, False, False, False,  True, False,\n",
       "       False, False,  True, False, False, False,  True, False,  True,\n",
       "        True,  True, False, False, False, False, False, False, False,\n",
       "       False, False, False, False, False, False, False,  True, False,\n",
       "        True, False,  True,  True,  True,  True, False,  True,  True,\n",
       "       False,  True,  True, False,  True, False,  True,  True, False,\n",
       "       False, False,  True,  True, False,  True,  True, False, False,\n",
       "       False, False, False, False, False,  True,  True, False, False,\n",
       "       False, False,  True, False,  True,  True, False,  True, False,\n",
       "       False,  True,  True,  True,  True,  True,  True,  True,  True,\n",
       "       False,  True, False,  True, False,  True, False, False,  True,\n",
       "       False, False, False, False,  True,  True, False, False,  True,\n",
       "       False,  True,  True,  True,  True,  True,  True,  True,  True,\n",
       "        True, False,  True,  True, False, False, False, False, False,\n",
       "       False,  True,  True, False,  True,  True,  True, False,  True,\n",
       "       False, False, False,  True, False,  True,  True, False,  True,\n",
       "       False,  True,  True, False, False,  True,  True, False,  True,\n",
       "        True, False,  True, False,  True,  True,  True,  True, False,\n",
       "        True,  True, False, False,  True,  True,  True, False,  True,\n",
       "       False, False,  True, False, False, False,  True,  True,  True,\n",
       "       False,  True, False, False,  True, False,  True, False, False,\n",
       "        True, False, False, False,  True, False,  True,  True,  True,\n",
       "       False, False, False, False, False, False,  True,  True, False,\n",
       "       False, False,  True, False, False, False, False, False,  True,\n",
       "        True, False,  True,  True,  True, False, False, False, False,\n",
       "        True, False, False,  True,  True,  True, False, False,  True,\n",
       "       False, False, False, False, False,  True, False, False,  True,\n",
       "       False, False, False,  True, False,  True, False, False, False,\n",
       "       False, False,  True, False,  True,  True, False,  True, False,\n",
       "        True,  True, False, False, False, False, False, False,  True,\n",
       "        True, False,  True, False, False, False,  True, False,  True,\n",
       "        True,  True,  True,  True, False,  True,  True, False, False,\n",
       "       False, False, False,  True, False, False, False,  True,  True,\n",
       "       False, False, False,  True,  True, False,  True,  True,  True,\n",
       "       False, False, False,  True, False, False, False, False,  True,\n",
       "       False,  True,  True,  True,  True, False,  True, False,  True,\n",
       "        True, False,  True, False, False,  True, False,  True, False,\n",
       "       False, False,  True, False, False,  True, False, False, False,\n",
       "        True, False, False, False, False, False,  True,  True, False,\n",
       "        True,  True, False, False,  True, False, False, False, False,\n",
       "       False, False,  True, False, False, False, False, False,  True,\n",
       "        True,  True,  True,  True,  True, False, False, False,  True,\n",
       "       False,  True,  True, False, False, False, False,  True,  True,\n",
       "       False, False, False,  True, False,  True, False,  True, False,\n",
       "       False,  True, False,  True,  True, False,  True, False, False,\n",
       "        True,  True, False,  True,  True, False, False,  True, False,\n",
       "        True, False, False, False,  True, False, False, False, False,\n",
       "        True,  True, False, False, False, False,  True,  True, False,\n",
       "        True,  True, False, False, False,  True,  True, False, False,\n",
       "        True,  True,  True,  True,  True, False,  True, False, False,\n",
       "       False,  True,  True,  True,  True,  True,  True, False, False,\n",
       "        True, False,  True,  True, False, False, False, False,  True,\n",
       "       False, False, False, False, False,  True, False, False, False,\n",
       "       False, False, False,  True, False,  True,  True, False,  True,\n",
       "       False, False, False, False, False, False, False,  True, False,\n",
       "        True, False, False, False,  True,  True, False,  True, False,\n",
       "        True,  True, False, False, False, False,  True, False, False,\n",
       "        True, False, False, False,  True, False, False, False,  True,\n",
       "       False,  True, False,  True,  True,  True, False,  True, False,\n",
       "        True,  True,  True,  True, False, False,  True, False, False,\n",
       "        True, False, False, False, False,  True,  True, False,  True,\n",
       "       False,  True, False, False,  True, False,  True,  True, False,\n",
       "       False, False,  True, False, False, False, False, False, False,\n",
       "       False, False,  True, False, False, False, False,  True,  True,\n",
       "        True, False,  True, False, False, False, False, False,  True,\n",
       "       False,  True, False,  True, False, False,  True,  True, False,\n",
       "       False, False,  True,  True,  True,  True, False,  True,  True,\n",
       "        True,  True, False, False, False, False,  True, False, False,\n",
       "       False,  True, False,  True,  True, False,  True, False, False,\n",
       "        True, False, False,  True, False, False, False,  True, False,\n",
       "       False])"
      ]
     },
     "execution_count": 161,
     "metadata": {},
     "output_type": "execute_result"
    }
   ],
   "source": [
    "first_issue > 0\n"
   ]
  },
  {
   "cell_type": "code",
   "execution_count": 168,
   "id": "7de49d4b",
   "metadata": {},
   "outputs": [
    {
     "data": {
      "text/plain": [
       "0.1603"
      ]
     },
     "execution_count": 168,
     "metadata": {},
     "output_type": "execute_result"
    }
   ],
   "source": [
    "first_450 = (np.random.random((10000, 450)) > fail).prod(axis=1).mean()\n",
    "first_450"
   ]
  },
  {
   "cell_type": "markdown",
   "id": "e109a2e7",
   "metadata": {},
   "source": [
    "7. There's a 70% chance on any given day that there will be at least one food truck at Travis Park. However, you haven't seen a food truck there in 3 days. How unlikely is this?\n",
    "\n",
    "How likely is it that a food truck will show up sometime this week?"
   ]
  },
  {
   "cell_type": "code",
   "execution_count": 186,
   "id": "1b75ce31",
   "metadata": {},
   "outputs": [
    {
     "data": {
      "text/plain": [
       "array([[0.7287073 , 0.00118248, 0.96283469],\n",
       "       [0.18602721, 0.26341032, 0.25903774],\n",
       "       [0.27998277, 0.18487996, 0.02194494]])"
      ]
     },
     "execution_count": 186,
     "metadata": {},
     "output_type": "execute_result"
    }
   ],
   "source": [
    "three_days = rng.random((1_000, 3))\n",
    "three_days[:3]"
   ]
  },
  {
   "cell_type": "code",
   "execution_count": 187,
   "id": "b7aa7aeb",
   "metadata": {},
   "outputs": [
    {
     "data": {
      "text/plain": [
       "array([[ True, False,  True],\n",
       "       [False, False, False],\n",
       "       [False, False, False],\n",
       "       ...,\n",
       "       [False, False, False],\n",
       "       [False,  True,  True],\n",
       "       [False, False,  True]])"
      ]
     },
     "execution_count": 187,
     "metadata": {},
     "output_type": "execute_result"
    }
   ],
   "source": [
    "three_days > 0.7"
   ]
  },
  {
   "cell_type": "code",
   "execution_count": 188,
   "id": "aafa06f7",
   "metadata": {},
   "outputs": [
    {
     "data": {
      "text/plain": [
       "array([2, 0, 0])"
      ]
     },
     "execution_count": 188,
     "metadata": {},
     "output_type": "execute_result"
    }
   ],
   "source": [
    "seen_days = (three_days > 0.7).sum(axis=1)\n",
    "seen_days[:3]"
   ]
  },
  {
   "cell_type": "code",
   "execution_count": 189,
   "id": "d83729ab",
   "metadata": {},
   "outputs": [
    {
     "data": {
      "text/plain": [
       "array([ True, False, False,  True,  True, False,  True,  True, False,\n",
       "        True,  True, False,  True, False,  True,  True,  True,  True,\n",
       "       False,  True, False, False,  True,  True, False,  True, False,\n",
       "        True, False,  True,  True,  True,  True,  True,  True, False,\n",
       "       False,  True, False, False, False,  True,  True,  True,  True,\n",
       "       False,  True,  True, False, False,  True,  True, False,  True,\n",
       "        True, False, False, False,  True,  True, False,  True,  True,\n",
       "        True, False,  True,  True,  True,  True,  True,  True,  True,\n",
       "       False, False,  True,  True, False, False,  True,  True, False,\n",
       "        True,  True, False, False,  True, False, False,  True, False,\n",
       "        True,  True,  True, False,  True, False,  True, False,  True,\n",
       "        True,  True,  True, False,  True,  True,  True,  True,  True,\n",
       "       False,  True,  True, False, False,  True,  True,  True,  True,\n",
       "        True,  True,  True,  True, False,  True,  True,  True,  True,\n",
       "        True, False,  True,  True,  True, False,  True, False, False,\n",
       "        True,  True, False,  True,  True, False,  True, False,  True,\n",
       "        True,  True,  True, False, False,  True, False,  True,  True,\n",
       "        True, False,  True,  True, False,  True, False,  True,  True,\n",
       "       False, False,  True, False,  True,  True,  True,  True,  True,\n",
       "        True,  True,  True, False, False, False,  True,  True,  True,\n",
       "       False,  True,  True,  True,  True,  True,  True, False,  True,\n",
       "        True,  True,  True,  True, False,  True,  True, False,  True,\n",
       "       False,  True,  True,  True,  True,  True, False,  True,  True,\n",
       "        True,  True, False,  True,  True,  True,  True,  True,  True,\n",
       "       False, False, False, False,  True, False,  True,  True,  True,\n",
       "        True,  True,  True,  True, False, False,  True,  True,  True,\n",
       "        True,  True, False, False,  True, False,  True,  True, False,\n",
       "        True,  True,  True,  True,  True, False,  True, False, False,\n",
       "       False,  True, False,  True,  True,  True, False, False,  True,\n",
       "        True, False, False,  True, False,  True,  True, False, False,\n",
       "        True,  True,  True,  True, False,  True,  True, False, False,\n",
       "       False, False,  True, False, False, False,  True,  True, False,\n",
       "        True,  True, False, False,  True,  True,  True,  True,  True,\n",
       "       False,  True,  True, False,  True,  True,  True,  True, False,\n",
       "        True,  True,  True,  True,  True, False, False,  True, False,\n",
       "        True,  True,  True,  True, False,  True, False,  True,  True,\n",
       "        True,  True, False,  True, False, False,  True,  True, False,\n",
       "       False,  True, False, False, False,  True,  True, False,  True,\n",
       "        True,  True,  True,  True, False,  True, False,  True, False,\n",
       "        True,  True,  True, False,  True,  True, False,  True,  True,\n",
       "        True, False,  True,  True,  True, False, False,  True,  True,\n",
       "        True, False,  True,  True,  True, False, False,  True, False,\n",
       "       False, False, False,  True, False,  True, False, False,  True,\n",
       "        True, False,  True, False,  True,  True,  True,  True,  True,\n",
       "        True,  True,  True,  True,  True,  True,  True,  True,  True,\n",
       "       False, False, False,  True,  True,  True,  True,  True, False,\n",
       "        True, False,  True,  True,  True,  True,  True, False,  True,\n",
       "        True,  True,  True,  True,  True,  True, False,  True, False,\n",
       "       False,  True,  True,  True,  True, False, False, False, False,\n",
       "        True,  True,  True,  True,  True,  True,  True,  True,  True,\n",
       "       False,  True, False, False, False,  True, False, False,  True,\n",
       "        True, False,  True,  True, False,  True, False, False,  True,\n",
       "        True, False, False, False, False,  True,  True,  True,  True,\n",
       "       False,  True, False,  True, False,  True,  True,  True, False,\n",
       "       False,  True,  True,  True,  True,  True,  True, False, False,\n",
       "        True,  True,  True,  True,  True,  True,  True,  True,  True,\n",
       "        True,  True, False,  True,  True, False,  True,  True, False,\n",
       "        True, False,  True,  True, False, False,  True,  True,  True,\n",
       "        True, False, False,  True, False, False,  True, False, False,\n",
       "       False,  True,  True,  True, False, False,  True, False, False,\n",
       "        True,  True,  True,  True, False,  True,  True, False,  True,\n",
       "       False, False, False,  True, False,  True, False,  True,  True,\n",
       "        True,  True, False,  True, False, False,  True, False,  True,\n",
       "        True, False, False, False,  True, False,  True, False,  True,\n",
       "       False,  True, False,  True,  True,  True,  True, False,  True,\n",
       "        True,  True, False,  True,  True, False,  True,  True,  True,\n",
       "        True,  True, False,  True,  True,  True,  True,  True,  True,\n",
       "       False,  True,  True,  True, False,  True,  True,  True,  True,\n",
       "        True,  True,  True, False, False,  True,  True,  True,  True,\n",
       "        True, False,  True, False,  True,  True,  True,  True,  True,\n",
       "        True,  True,  True,  True,  True, False, False,  True, False,\n",
       "        True, False,  True, False,  True,  True, False,  True,  True,\n",
       "        True,  True, False,  True,  True,  True,  True,  True,  True,\n",
       "        True,  True, False,  True,  True,  True,  True, False,  True,\n",
       "        True,  True, False, False,  True,  True,  True, False,  True,\n",
       "        True, False, False,  True,  True,  True,  True,  True,  True,\n",
       "        True,  True, False,  True, False,  True,  True, False,  True,\n",
       "        True, False,  True,  True, False,  True,  True,  True, False,\n",
       "       False,  True,  True, False,  True,  True,  True,  True, False,\n",
       "       False,  True,  True, False,  True, False, False,  True,  True,\n",
       "       False,  True, False,  True, False,  True, False,  True,  True,\n",
       "       False, False,  True,  True,  True,  True,  True, False,  True,\n",
       "        True, False,  True, False, False,  True,  True,  True, False,\n",
       "        True, False,  True,  True, False,  True,  True,  True, False,\n",
       "       False,  True,  True,  True, False,  True, False,  True,  True,\n",
       "       False,  True, False,  True, False,  True, False, False,  True,\n",
       "        True,  True,  True,  True,  True,  True,  True,  True,  True,\n",
       "       False, False, False,  True, False,  True,  True,  True,  True,\n",
       "        True, False, False,  True, False, False, False,  True, False,\n",
       "       False, False,  True,  True, False,  True,  True, False,  True,\n",
       "        True,  True, False,  True,  True, False,  True,  True,  True,\n",
       "        True,  True,  True,  True, False,  True,  True,  True,  True,\n",
       "        True, False,  True,  True,  True,  True,  True, False,  True,\n",
       "        True,  True,  True, False,  True,  True,  True, False,  True,\n",
       "        True,  True,  True,  True,  True,  True,  True, False, False,\n",
       "       False, False,  True, False,  True,  True,  True,  True,  True,\n",
       "        True,  True,  True,  True, False,  True, False,  True, False,\n",
       "        True, False, False,  True,  True, False, False, False,  True,\n",
       "        True,  True, False,  True,  True,  True,  True,  True, False,\n",
       "        True,  True,  True,  True,  True,  True,  True,  True, False,\n",
       "       False, False,  True,  True,  True,  True,  True,  True, False,\n",
       "       False,  True,  True, False,  True,  True,  True,  True,  True,\n",
       "        True, False, False,  True,  True,  True, False,  True,  True,\n",
       "        True,  True,  True,  True,  True,  True,  True, False,  True,\n",
       "        True, False, False,  True,  True,  True,  True,  True, False,\n",
       "        True, False,  True,  True, False,  True,  True,  True,  True,\n",
       "        True,  True, False, False, False,  True,  True,  True, False,\n",
       "        True, False, False,  True,  True,  True, False,  True,  True,\n",
       "       False,  True,  True,  True,  True,  True, False, False,  True,\n",
       "        True,  True,  True,  True,  True, False, False,  True, False,\n",
       "        True,  True,  True,  True,  True,  True,  True, False,  True,\n",
       "        True])"
      ]
     },
     "execution_count": 189,
     "metadata": {},
     "output_type": "execute_result"
    }
   ],
   "source": [
    "seen_days != 0"
   ]
  },
  {
   "cell_type": "code",
   "execution_count": 190,
   "id": "bb50cdbf",
   "metadata": {},
   "outputs": [
    {
     "data": {
      "text/plain": [
       "666"
      ]
     },
     "execution_count": 190,
     "metadata": {},
     "output_type": "execute_result"
    }
   ],
   "source": [
    "might_see = (seen_days != 0).sum()\n",
    "might_see"
   ]
  },
  {
   "cell_type": "code",
   "execution_count": 191,
   "id": "21bfcb81",
   "metadata": {},
   "outputs": [
    {
     "data": {
      "text/plain": [
       "0.666"
      ]
     },
     "execution_count": 191,
     "metadata": {},
     "output_type": "execute_result"
    }
   ],
   "source": [
    "might_see / len(seen_days)"
   ]
  },
  {
   "cell_type": "markdown",
   "id": "5ac575d3",
   "metadata": {},
   "source": [
    "8. If 23 people are in the same room, what are the odds that two of them share a birthday? What if it's 20 people? 40?\n",
    "\n"
   ]
  },
  {
   "cell_type": "code",
   "execution_count": 193,
   "id": "e3f13258",
   "metadata": {},
   "outputs": [
    {
     "data": {
      "text/plain": [
       "0.8923"
      ]
     },
     "execution_count": 193,
     "metadata": {},
     "output_type": "execute_result"
    }
   ],
   "source": [
    "birthday_23 = pd.DataFrame(np.random.randint(0,365,(10_000,23)))\n",
    "share_birthday_23 = birthday_23.apply(lambda x: len(set(x)) != len(x),axis=1).mean()\n",
    "share_birthday_23\n",
    "birthday_20 = pd.DataFrame(np.random.randint(0,365,(10_000,20)))\n",
    "share_birthday_20 = birthday_20.apply(lambda x: len(set(x)) != len(x),axis=1).mean()\n",
    "share_birthday_20\n",
    "birthday_40 = pd.DataFrame(np.random.randint(0,365,(10_000,40)))\n",
    "share_birthday_40 = birthday_40.apply(lambda x: len(set(x)) != len(x),axis=1).mean()\n",
    "share_birthday_40\n"
   ]
  },
  {
   "cell_type": "code",
   "execution_count": 196,
   "id": "4216f605",
   "metadata": {},
   "outputs": [
    {
     "name": "stdout",
     "output_type": "stream",
     "text": [
      "Probability of two people sharing a birthday in a room of 23 people: 0.481\n",
      "Probability of two people sharing a birthday in a room of 20 people: 0.405\n",
      "Probability of two people sharing a birthday in a room of 40 people: 0.892\n"
     ]
    }
   ],
   "source": [
    "import numpy as np\n",
    "\n",
    "num_simulations = 1000\n",
    "\n",
    "# For 23 people\n",
    "birthdays_23 = np.random.randint(0, 365, size=(num_simulations, 23))\n",
    "share_birthday_23 = np.mean([len(set(people)) != len(people) for people in birthdays_23])\n",
    "print(\"Probability of two people sharing a birthday in a room of 23 people:\", share_birthday_23)\n",
    "\n",
    "# For 20 people\n",
    "birthdays_20 = np.random.randint(0, 365, size=(num_simulations, 20))\n",
    "share_birthday_20 = np.mean([len(set(people)) != len(people) for people in birthdays_20])\n",
    "print(\"Probability of two people sharing a birthday in a room of 20 people:\", share_birthday_20)\n",
    "\n",
    "# For 40 people\n",
    "birthdays_40 = np.random.randint(0, 365, size=(num_simulations, 40))\n",
    "share_birthday_40 = np.mean([len(set(people)) != len(people) for people in birthdays_40])\n",
    "print(\"Probability of two people sharing a birthday in a room of 40 people:\", share_birthday_40)\n"
   ]
  },
  {
   "cell_type": "code",
   "execution_count": null,
   "id": "603b38ad",
   "metadata": {},
   "outputs": [],
   "source": []
  }
 ],
 "metadata": {
  "kernelspec": {
   "display_name": "Python 3 (ipykernel)",
   "language": "python",
   "name": "python3"
  },
  "language_info": {
   "codemirror_mode": {
    "name": "ipython",
    "version": 3
   },
   "file_extension": ".py",
   "mimetype": "text/x-python",
   "name": "python",
   "nbconvert_exporter": "python",
   "pygments_lexer": "ipython3",
   "version": "3.10.9"
  }
 },
 "nbformat": 4,
 "nbformat_minor": 5
}
