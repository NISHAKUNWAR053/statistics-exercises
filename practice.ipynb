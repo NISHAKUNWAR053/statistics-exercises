{
 "cells": [
  {
   "cell_type": "code",
   "execution_count": 1,
   "id": "d5864f45-8635-4e7e-b35d-e6f9da2611ee",
   "metadata": {},
   "outputs": [
    {
     "name": "stdout",
     "output_type": "stream",
     "text": [
      "0.8413447460685429\n"
     ]
    }
   ],
   "source": [
    "from scipy.stats import norm\n",
    "\n",
    "mean_total = 45\n",
    "std_total = 15\n",
    "lunch_hour_duration = 60\n",
    "\n",
    "z_score = (lunch_hour_duration - mean_total) / std_total\n",
    "\n",
    "probability_less_than_lunch_hour = norm.cdf(z_score)\n",
    "print(probability_less_than_lunch_hour)\n"
   ]
  },
  {
   "cell_type": "code",
   "execution_count": 4,
   "id": "9b527786-81d5-47fa-80f6-930d143d1347",
   "metadata": {},
   "outputs": [
    {
     "name": "stdout",
     "output_type": "stream",
     "text": [
      "0.1510752871020999\n"
     ]
    }
   ],
   "source": [
    "import math\n",
    "\n",
    "n = 618\n",
    "k = 70\n",
    "p = 0.1\n",
    "\n",
    "probability_70_or_more = sum((math.comb(n, i) * (p ** i) * ((1 - p) ** (n - i))) for i in range(k, n + 1))\n",
    "\n",
    "print(probability_70_or_more)\n"
   ]
  },
  {
   "cell_type": "code",
   "execution_count": 5,
   "id": "e3e05110-17ae-4405-a8dd-e673df0c9942",
   "metadata": {},
   "outputs": [
    {
     "name": "stdout",
     "output_type": "stream",
     "text": [
      "0.15107528710209717\n"
     ]
    }
   ],
   "source": [
    "from scipy.stats import binom\n",
    "\n",
    "total_customers = 618\n",
    "probability_of_completion = 0.10\n",
    "number_of_successful_trials = range(70, total_customers + 1)\n",
    "\n",
    "probability_70_or_more = 1 - sum(binom.pmf(k, total_customers, probability_of_completion) for k in range(0, 70))\n",
    "\n",
    "print(probability_70_or_more)\n"
   ]
  },
  {
   "cell_type": "code",
   "execution_count": 6,
   "id": "73b582a6-d88c-478d-8d00-ab84fe1ed597",
   "metadata": {},
   "outputs": [
    {
     "name": "stdout",
     "output_type": "stream",
     "text": [
      "0.1510752871020999\n"
     ]
    }
   ],
   "source": [
    "from math import comb\n",
    "\n",
    "def binomial_probability(n, p, k):\n",
    "    return comb(n, k) * (p ** k) * ((1 - p) ** (n - k))\n",
    "\n",
    "n_customers = 618\n",
    "p_survey_completion = 0.10\n",
    "k_min = 70\n",
    "\n",
    "probability_70_or_more = sum(binomial_probability(n_customers, p_survey_completion, k) for k in range(k_min, n_customers + 1))\n",
    "print(probability_70_or_more)\n"
   ]
  },
  {
   "cell_type": "code",
   "execution_count": 7,
   "id": "2e87fa79-de2b-4a18-8a0b-7d23a21f3396",
   "metadata": {},
   "outputs": [
    {
     "name": "stdout",
     "output_type": "stream",
     "text": [
      "0.15865525393145707\n"
     ]
    }
   ],
   "source": [
    "from scipy.stats import norm\n",
    "\n",
    "mean = 10\n",
    "std_dev = 2\n",
    "\n",
    "# Create a normal distribution with mean and standard deviation\n",
    "normal_dist = norm(mean, std_dev)\n",
    "\n",
    "# Calculate the survival function for x = 12 (probability that X > 12)\n",
    "probability_greater_than_12 = normal_dist.sf(12)\n",
    "print(probability_greater_than_12)\n"
   ]
  },
  {
   "cell_type": "code",
   "execution_count": 8,
   "id": "8b0b39b1-16d2-4f6f-a685-0e01b2d3b18f",
   "metadata": {},
   "outputs": [
    {
     "name": "stdout",
     "output_type": "stream",
     "text": [
      "0.031921361119954354\n"
     ]
    }
   ],
   "source": [
    "from math import comb\n",
    "\n",
    "n_students = 20\n",
    "p_on_time = 0.90\n",
    "k = 15\n",
    "\n",
    "probability_15_students_on_time = comb(n_students, k) * (p_on_time ** k) * ((1 - p_on_time) ** (n_students - k))\n",
    "print(probability_15_students_on_time)\n"
   ]
  },
  {
   "cell_type": "code",
   "execution_count": 9,
   "id": "489a14a4-bef1-4f66-b7f5-bf01c68ef2cd",
   "metadata": {},
   "outputs": [
    {
     "name": "stdout",
     "output_type": "stream",
     "text": [
      "0.8413447460685429\n"
     ]
    }
   ],
   "source": [
    "from scipy.stats import norm\n",
    "\n",
    "mean_total = 45\n",
    "std_total = 15\n",
    "lunch_hour_duration = 60\n",
    "\n",
    "z_score = (lunch_hour_duration - mean_total) / std_total\n",
    "\n",
    "probability_less_than_lunch_hour = norm.cdf(z_score)\n",
    "print(probability_less_than_lunch_hour)\n"
   ]
  },
  {
   "cell_type": "code",
   "execution_count": null,
   "id": "01fc527f-cd0b-4df1-8891-f876d383ce57",
   "metadata": {},
   "outputs": [],
   "source": []
  }
 ],
 "metadata": {
  "kernelspec": {
   "display_name": "Python 3 (ipykernel)",
   "language": "python",
   "name": "python3"
  },
  "language_info": {
   "codemirror_mode": {
    "name": "ipython",
    "version": 3
   },
   "file_extension": ".py",
   "mimetype": "text/x-python",
   "name": "python",
   "nbconvert_exporter": "python",
   "pygments_lexer": "ipython3",
   "version": "3.10.12"
  }
 },
 "nbformat": 4,
 "nbformat_minor": 5
}
