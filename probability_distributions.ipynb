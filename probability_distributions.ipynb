{
 "cells": [
  {
   "cell_type": "code",
   "execution_count": 2,
   "id": "85b0915d",
   "metadata": {},
   "outputs": [],
   "source": [
    "import numpy as np\n",
    "from scipy import stats\n",
    "\n",
    "import matplotlib.pyplot as plt"
   ]
  },
  {
   "cell_type": "code",
   "execution_count": 3,
   "id": "41aa077e",
   "metadata": {},
   "outputs": [],
   "source": [
    "num_simulation = 10_000"
   ]
  },
  {
   "cell_type": "markdown",
   "id": "2b74e6db",
   "metadata": {},
   "source": [
    "1. A bank found that the average number of cars waiting during the noon hour at a drive-up window follows a Poisson distribution with a mean of 2 cars. Make a chart of this distribution and answer these questions concerning the probability of cars waiting at the drive-up window.\n",
    "\n"
   ]
  },
  {
   "cell_type": "code",
   "execution_count": 4,
   "id": "cd004afa",
   "metadata": {},
   "outputs": [],
   "source": [
    "mean_cars = 2\n"
   ]
  },
  {
   "cell_type": "code",
   "execution_count": 5,
   "id": "3c32ca30",
   "metadata": {},
   "outputs": [
    {
     "data": {
      "text/plain": [
       "<scipy.stats._distn_infrastructure.rv_discrete_frozen at 0x1442b1900>"
      ]
     },
     "execution_count": 5,
     "metadata": {},
     "output_type": "execute_result"
    }
   ],
   "source": [
    "distribution_poisson = stats.poisson(mean_cars)\n",
    "distribution_poisson"
   ]
  },
  {
   "cell_type": "code",
   "execution_count": 7,
   "id": "fe9e04a9",
   "metadata": {
    "scrolled": true
   },
   "outputs": [
    {
     "data": {
      "text/plain": [
       "[0.1353352832366127,\n",
       " 0.2706705664732254,\n",
       " 0.2706705664732254,\n",
       " 0.18044704431548356,\n",
       " 0.09022352215774178,\n",
       " 0.03608940886309672,\n",
       " 0.012029802954365565,\n",
       " 0.0034370865583901616,\n",
       " 0.0008592716395975402,\n",
       " 0.00019094925324389823,\n",
       " 3.818985064877954e-05]"
      ]
     },
     "execution_count": 7,
     "metadata": {},
     "output_type": "execute_result"
    }
   ],
   "source": [
    "y = [distribution_poisson.pmf(i) for i in range(0,11)]\n",
    "y"
   ]
  },
  {
   "cell_type": "code",
   "execution_count": 8,
   "id": "48ccee0d",
   "metadata": {},
   "outputs": [
    {
     "data": {
      "text/plain": [
       "<BarContainer object of 11 artists>"
      ]
     },
     "execution_count": 8,
     "metadata": {},
     "output_type": "execute_result"
    },
    {
     "data": {
      "image/png": "[encoded data removed]",
      "text/plain": [
       "<Figure size 640x480 with 1 Axes>"
      ]
     },
     "metadata": {},
     "output_type": "display_data"
    }
   ],
   "source": [
    "plt.bar(x = range(0,11), height = y)"
   ]
  },
  {
   "cell_type": "code",
   "execution_count": 4,
   "id": "23ec8e71",
   "metadata": {},
   "outputs": [],
   "source": [
    "car_simulation = distribution_poisson.rvs(10_000)"
   ]
  },
  {
   "cell_type": "markdown",
   "id": "75ae9fef",
   "metadata": {},
   "source": [
    "What is the probability that no cars drive up in the noon hour?\n"
   ]
  },
  {
   "cell_type": "code",
   "execution_count": 5,
   "id": "3dbad663",
   "metadata": {},
   "outputs": [
    {
     "data": {
      "text/plain": [
       "0.1334"
      ]
     },
     "execution_count": 5,
     "metadata": {},
     "output_type": "execute_result"
    }
   ],
   "source": [
    "no_cars = np.mean(car_simulation == 0)\n",
    "no_cars"
   ]
  },
  {
   "cell_type": "markdown",
   "id": "ba2a8fb1",
   "metadata": {},
   "source": [
    "What is the probability that 3 or more cars come through the drive through?\n"
   ]
  },
  {
   "cell_type": "code",
   "execution_count": 6,
   "id": "911a74ab",
   "metadata": {},
   "outputs": [
    {
     "data": {
      "text/plain": [
       "0.3221"
      ]
     },
     "execution_count": 6,
     "metadata": {},
     "output_type": "execute_result"
    }
   ],
   "source": [
    "three_or_more = np.mean(car_simulation >= 3)\n",
    "three_or_more"
   ]
  },
  {
   "cell_type": "markdown",
   "id": "2398f238",
   "metadata": {},
   "source": [
    "How likely is it that the drive through gets at least 1 car?\n"
   ]
  },
  {
   "cell_type": "code",
   "execution_count": 7,
   "id": "2bc6e315",
   "metadata": {},
   "outputs": [
    {
     "data": {
      "text/plain": [
       "0.8666"
      ]
     },
     "execution_count": 7,
     "metadata": {},
     "output_type": "execute_result"
    }
   ],
   "source": [
    "at_least_1 = np.mean(car_simulation >= 1)\n",
    "at_least_1"
   ]
  },
  {
   "cell_type": "markdown",
   "id": "412abbca",
   "metadata": {},
   "source": [
    "2. Grades of State University graduates are normally distributed with a mean of 3.0 and a standard deviation of .3. Calculate the following:"
   ]
  },
  {
   "cell_type": "code",
   "execution_count": 15,
   "id": "e33b625d",
   "metadata": {},
   "outputs": [],
   "source": [
    "mean = 3.0\n",
    "std_dev = 0.3"
   ]
  },
  {
   "cell_type": "code",
   "execution_count": 16,
   "id": "20056703",
   "metadata": {},
   "outputs": [
    {
     "data": {
      "text/plain": [
       "<scipy.stats._distn_infrastructure.rv_continuous_frozen at 0x14452a680>"
      ]
     },
     "execution_count": 16,
     "metadata": {},
     "output_type": "execute_result"
    }
   ],
   "source": [
    "grades = stats.norm(3, 0.3)\n",
    "grades\n"
   ]
  },
  {
   "cell_type": "markdown",
   "id": "bcd77386",
   "metadata": {},
   "source": [
    "What grade point average is required to be in the top 5% of the graduating class?\n"
   ]
  },
  {
   "cell_type": "code",
   "execution_count": 17,
   "id": "f260b9ab",
   "metadata": {},
   "outputs": [
    {
     "data": {
      "text/plain": [
       "3.4934560880854417"
      ]
     },
     "execution_count": 17,
     "metadata": {},
     "output_type": "execute_result"
    }
   ],
   "source": [
    "top_five = grades.ppf(0.95)\n",
    "top_five"
   ]
  },
  {
   "cell_type": "markdown",
   "id": "f191ae65",
   "metadata": {},
   "source": [
    "What GPA constitutes the bottom 15% of the class?\n"
   ]
  },
  {
   "cell_type": "code",
   "execution_count": 18,
   "id": "697dc546",
   "metadata": {},
   "outputs": [
    {
     "data": {
      "text/plain": [
       "2.689069983151863"
      ]
     },
     "execution_count": 18,
     "metadata": {},
     "output_type": "execute_result"
    }
   ],
   "source": [
    "bottom_15 = grades.ppf(0.15)\n",
    "bottom_15"
   ]
  },
  {
   "cell_type": "markdown",
   "id": "4de9f8be",
   "metadata": {},
   "source": [
    "An eccentric alumnus left scholarship money for students in the third decile from the bottom of their class. Determine the range of the third decile. Would a student with a 2.8 grade point average qualify for this scholarship?"
   ]
  },
  {
   "cell_type": "code",
   "execution_count": 19,
   "id": "6e863dd1",
   "metadata": {},
   "outputs": [],
   "source": [
    "third_decile_bottom = grades.ppf(0.2)\n",
    "third_decile_top = grades.ppf(0.3)\n"
   ]
  },
  {
   "cell_type": "code",
   "execution_count": 20,
   "id": "1607e7d4",
   "metadata": {},
   "outputs": [],
   "source": [
    "sclp_gpa = 2.8"
   ]
  },
  {
   "cell_type": "code",
   "execution_count": 24,
   "id": "e2de90c0",
   "metadata": {},
   "outputs": [],
   "source": [
    "sch_percent = grades.cdf(sclp_gpa) * 100\n"
   ]
  },
  {
   "cell_type": "code",
   "execution_count": null,
   "id": "92abeea0",
   "metadata": {},
   "outputs": [],
   "source": []
  },
  {
   "cell_type": "markdown",
   "id": "8d9dbf1e",
   "metadata": {},
   "source": [
    "If I have a GPA of 3.5, what percentile am I in?\n"
   ]
  },
  {
   "cell_type": "code",
   "execution_count": 38,
   "id": "439dd686",
   "metadata": {},
   "outputs": [],
   "source": [
    "my_gpa = 3.5"
   ]
  },
  {
   "cell_type": "code",
   "execution_count": 40,
   "id": "7c77ebc9",
   "metadata": {},
   "outputs": [
    {
     "data": {
      "text/plain": [
       "95.22096477271853"
      ]
     },
     "execution_count": 40,
     "metadata": {},
     "output_type": "execute_result"
    }
   ],
   "source": [
    "my_percentile = grades.cdf(my_gpa) * 100\n",
    "my_percentile"
   ]
  },
  {
   "cell_type": "markdown",
   "id": "aebf34bc",
   "metadata": {},
   "source": [
    "3. A marketing website has an average click-through rate of 2%. One day they observe 4326 visitors and 97 click-throughs. How likely is it that this many people or more click through?\n",
    "\n"
   ]
  },
  {
   "cell_type": "code",
   "execution_count": 26,
   "id": "04e88a7d",
   "metadata": {},
   "outputs": [
    {
     "data": {
      "text/plain": [
       "array([ 89,  85,  88, ...,  90, 107,  87])"
      ]
     },
     "execution_count": 26,
     "metadata": {},
     "output_type": "execute_result"
    }
   ],
   "source": [
    "random_click = np.random.binomial(4326, 0.02, 10_000)\n",
    "random_click"
   ]
  },
  {
   "cell_type": "code",
   "execution_count": 27,
   "id": "d5d03faa",
   "metadata": {},
   "outputs": [
    {
     "data": {
      "text/plain": [
       "0.1188"
      ]
     },
     "execution_count": 27,
     "metadata": {},
     "output_type": "execute_result"
    }
   ],
   "source": [
    "likely_or_more = sum(random_click > 97) / 10_000\n",
    "likely_or_more"
   ]
  },
  {
   "cell_type": "markdown",
   "id": "c49c6374",
   "metadata": {},
   "source": [
    "4. You are working on some statistics homework consisting of 100 questions where all of the answers are a probability rounded to the hundreths place. Looking to save time, you put down random probabilities as the answer to each question.\n",
    "\n",
    "What is the probability that at least one of your first 60 answers is correct?\n",
    "\n"
   ]
  },
  {
   "cell_type": "code",
   "execution_count": 57,
   "id": "f8a48ce4",
   "metadata": {},
   "outputs": [
    {
     "data": {
      "text/plain": [
       "0.45284335760923855"
      ]
     },
     "execution_count": 57,
     "metadata": {},
     "output_type": "execute_result"
    }
   ],
   "source": [
    "got_lucky = stats.binom(60, .01).sf(0)\n",
    "got_lucky"
   ]
  },
  {
   "cell_type": "code",
   "execution_count": 58,
   "id": "a63cfd4e",
   "metadata": {},
   "outputs": [],
   "source": [
    "correct_question = 60"
   ]
  },
  {
   "cell_type": "code",
   "execution_count": 60,
   "id": "57fb9985",
   "metadata": {},
   "outputs": [],
   "source": [
    "simulations = np.random.rand(10_000, 60) < 0.01"
   ]
  },
  {
   "cell_type": "code",
   "execution_count": 61,
   "id": "6caa3f04",
   "metadata": {},
   "outputs": [],
   "source": [
    "correct_answer = np.sum(np.any(simulations, axis = 1))"
   ]
  },
  {
   "cell_type": "code",
   "execution_count": 62,
   "id": "d60a84f2",
   "metadata": {},
   "outputs": [
    {
     "data": {
      "text/plain": [
       "0.4581"
      ]
     },
     "execution_count": 62,
     "metadata": {},
     "output_type": "execute_result"
    }
   ],
   "source": [
    "probability = correct_answer / 10_000\n",
    "probability"
   ]
  },
  {
   "cell_type": "markdown",
   "id": "17c1f825",
   "metadata": {},
   "source": [
    "5. The codeup staff tends to get upset when the student break area is not cleaned up. Suppose that there's a 3% chance that any one student cleans the break area when they visit it, and, on any given day, about 90% of the 3 active cohorts of 22 students visit the break area. How likely is it that the break area gets cleaned up each day? How likely is it that it goes two days without getting cleaned up? All week?"
   ]
  },
  {
   "cell_type": "code",
   "execution_count": 76,
   "id": "46d2c871",
   "metadata": {},
   "outputs": [],
   "source": [
    "no_of_student = int(0.9 * 3 * 22)\n",
    "who_cleans = stats.binom(no_of_student, 0.3)"
   ]
  },
  {
   "cell_type": "markdown",
   "id": "721b5b44",
   "metadata": {},
   "source": [
    "How likely is it that the break area gets cleaned up each day?"
   ]
  },
  {
   "cell_type": "code",
   "execution_count": 77,
   "id": "2d7be678",
   "metadata": {},
   "outputs": [
    {
     "data": {
      "text/plain": [
       "0.9999999992742545"
      ]
     },
     "execution_count": 77,
     "metadata": {},
     "output_type": "execute_result"
    }
   ],
   "source": [
    "each_day = who_cleans.sf(0)\n",
    "each_day"
   ]
  },
  {
   "cell_type": "markdown",
   "id": "9eb9265d",
   "metadata": {},
   "source": [
    "How likely is it that it goes two days without getting cleaned up? All week?"
   ]
  },
  {
   "cell_type": "code",
   "execution_count": 78,
   "id": "b1df0b43",
   "metadata": {},
   "outputs": [
    {
     "data": {
      "text/plain": [
       "5.267065530394907e-19"
      ]
     },
     "execution_count": 78,
     "metadata": {},
     "output_type": "execute_result"
    }
   ],
   "source": [
    "two_days = who_cleans.cdf(0) ** 2\n",
    "two_days"
   ]
  },
  {
   "cell_type": "code",
   "execution_count": 79,
   "id": "78579965",
   "metadata": {},
   "outputs": [
    {
     "data": {
      "text/plain": [
       "2.0133617064764373e-46"
      ]
     },
     "execution_count": 79,
     "metadata": {},
     "output_type": "execute_result"
    }
   ],
   "source": [
    "all_week = who_cleans.cdf(0) ** 5\n",
    "all_week"
   ]
  },
  {
   "cell_type": "markdown",
   "id": "7510a978",
   "metadata": {},
   "source": [
    "6. You want to get lunch at La Panaderia, but notice that the line is usually very long at lunchtime. After several weeks of careful observation, you notice that the average number of people in line when your lunch break starts is normally distributed with a mean of 15 and standard deviation of 3. If it takes 2 minutes for each person to order, and 10 minutes from ordering to getting your food, what is the likelihood that you have at least 15 minutes left to eat your food before you have to go back to class? Assume you have one hour for lunch, and ignore travel time to and from La Panaderia.\n",
    "\n"
   ]
  },
  {
   "cell_type": "code",
   "execution_count": 29,
   "id": "0187970b",
   "metadata": {},
   "outputs": [],
   "source": [
    "\n",
    "people_in_line_mean = 15\n",
    "people_in_line_stdv = 3\n",
    "# mean and standard deviation of waiting time in minutes\n",
    "\n",
    "mean_wait_time = 15 * 2\n",
    "std_dev_wait_time = 3* 2\n",
    "# get through the line time\n"
   ]
  },
  {
   "cell_type": "code",
   "execution_count": 31,
   "id": "c843d0fd",
   "metadata": {},
   "outputs": [
    {
     "data": {
      "text/plain": [
       "40"
      ]
     },
     "execution_count": 31,
     "metadata": {},
     "output_type": "execute_result"
    }
   ],
   "source": [
    "wait_order = mean_wait_time + 10\n",
    "wait_order"
   ]
  },
  {
   "cell_type": "code",
   "execution_count": 32,
   "id": "6147b69f",
   "metadata": {},
   "outputs": [
    {
     "data": {
      "text/plain": [
       "20"
      ]
     },
     "execution_count": 32,
     "metadata": {},
     "output_type": "execute_result"
    }
   ],
   "source": [
    "available_time = 60 - wait_order\n",
    "available_time"
   ]
  },
  {
   "cell_type": "code",
   "execution_count": 33,
   "id": "77b732d4",
   "metadata": {},
   "outputs": [
    {
     "data": {
      "text/plain": [
       "0.0477903522728147"
      ]
     },
     "execution_count": 33,
     "metadata": {},
     "output_type": "execute_result"
    }
   ],
   "source": [
    "time_left = stats.norm.cdf(10,15,3)\n",
    "time_left"
   ]
  },
  {
   "cell_type": "code",
   "execution_count": 89,
   "id": "b2463149",
   "metadata": {},
   "outputs": [
    {
     "data": {
      "text/plain": [
       "<scipy.stats._distn_infrastructure.rv_continuous_frozen at 0x133acd5d0>"
      ]
     },
     "execution_count": 89,
     "metadata": {},
     "output_type": "execute_result"
    }
   ],
   "source": [
    "lunch = stats.norm(15,3)\n",
    "lunch"
   ]
  },
  {
   "cell_type": "markdown",
   "id": "bfff19f9",
   "metadata": {},
   "source": [
    "7. Connect to the employees database and find the average salary of current employees, along with the standard deviation. For the following questions, calculate the answer based on modeling the employees salaries with a normal distribution defined by the calculated mean and standard deviation then compare this answer to the actual values present in the salaries dataset."
   ]
  },
  {
   "cell_type": "code",
   "execution_count": 99,
   "id": "5248dfda",
   "metadata": {},
   "outputs": [],
   "source": [
    "import pandas as pd\n",
    "from sqlalchemy import text, create_engine\n",
    "import env "
   ]
  },
  {
   "cell_type": "code",
   "execution_count": 100,
   "id": "08ac227e",
   "metadata": {
    "scrolled": true
   },
   "outputs": [],
   "source": [
    "url = env.get_connection('employees')"
   ]
  },
  {
   "cell_type": "code",
   "execution_count": 101,
   "id": "a7ce00dc",
   "metadata": {},
   "outputs": [],
   "source": [
    "engine = create_engine(url)"
   ]
  },
  {
   "cell_type": "code",
   "execution_count": 102,
   "id": "43194afa",
   "metadata": {},
   "outputs": [],
   "source": [
    "query = '''\n",
    "        SELECT *\n",
    "        FROM salaries\n",
    "        WHERE to_date > CURDATE()\n",
    "        '''"
   ]
  },
  {
   "cell_type": "code",
   "execution_count": 104,
   "id": "711d881a",
   "metadata": {},
   "outputs": [
    {
     "data": {
      "text/html": [
       "<div>\n",
       "<style scoped>\n",
       "    .dataframe tbody tr th:only-of-type {\n",
       "        vertical-align: middle;\n",
       "    }\n",
       "\n",
       "    .dataframe tbody tr th {\n",
       "        vertical-align: top;\n",
       "    }\n",
       "\n",
       "    .dataframe thead th {\n",
       "        text-align: right;\n",
       "    }\n",
       "</style>\n",
       "<table border=\"1\" class=\"dataframe\">\n",
       "  <thead>\n",
       "    <tr style=\"text-align: right;\">\n",
       "      <th></th>\n",
       "      <th>emp_no</th>\n",
       "      <th>salary</th>\n",
       "      <th>from_date</th>\n",
       "      <th>to_date</th>\n",
       "    </tr>\n",
       "  </thead>\n",
       "  <tbody>\n",
       "    <tr>\n",
       "      <th>0</th>\n",
       "      <td>10001</td>\n",
       "      <td>88958</td>\n",
       "      <td>2002-06-22</td>\n",
       "      <td>9999-01-01</td>\n",
       "    </tr>\n",
       "    <tr>\n",
       "      <th>1</th>\n",
       "      <td>10002</td>\n",
       "      <td>72527</td>\n",
       "      <td>2001-08-02</td>\n",
       "      <td>9999-01-01</td>\n",
       "    </tr>\n",
       "    <tr>\n",
       "      <th>2</th>\n",
       "      <td>10003</td>\n",
       "      <td>43311</td>\n",
       "      <td>2001-12-01</td>\n",
       "      <td>9999-01-01</td>\n",
       "    </tr>\n",
       "    <tr>\n",
       "      <th>3</th>\n",
       "      <td>10004</td>\n",
       "      <td>74057</td>\n",
       "      <td>2001-11-27</td>\n",
       "      <td>9999-01-01</td>\n",
       "    </tr>\n",
       "    <tr>\n",
       "      <th>4</th>\n",
       "      <td>10005</td>\n",
       "      <td>94692</td>\n",
       "      <td>2001-09-09</td>\n",
       "      <td>9999-01-01</td>\n",
       "    </tr>\n",
       "  </tbody>\n",
       "</table>\n",
       "</div>"
      ],
      "text/plain": [
       "   emp_no  salary   from_date     to_date\n",
       "0   10001   88958  2002-06-22  9999-01-01\n",
       "1   10002   72527  2001-08-02  9999-01-01\n",
       "2   10003   43311  2001-12-01  9999-01-01\n",
       "3   10004   74057  2001-11-27  9999-01-01\n",
       "4   10005   94692  2001-09-09  9999-01-01"
      ]
     },
     "execution_count": 104,
     "metadata": {},
     "output_type": "execute_result"
    }
   ],
   "source": [
    "salary_df = pd.read_sql(query, engine)\n",
    "salary_df.head()"
   ]
  },
  {
   "cell_type": "code",
   "execution_count": 109,
   "id": "628048de",
   "metadata": {},
   "outputs": [],
   "source": [
    "mean_s = salary_df['salary'].mean()"
   ]
  },
  {
   "cell_type": "code",
   "execution_count": 110,
   "id": "1284b9a8",
   "metadata": {},
   "outputs": [],
   "source": [
    "std_s = salary_df['salary'].std()"
   ]
  },
  {
   "cell_type": "code",
   "execution_count": 112,
   "id": "1697203d",
   "metadata": {},
   "outputs": [
    {
     "data": {
      "text/plain": [
       "<scipy.stats._distn_infrastructure.rv_continuous_frozen at 0x143d28cd0>"
      ]
     },
     "execution_count": 112,
     "metadata": {},
     "output_type": "execute_result"
    }
   ],
   "source": [
    "salary_dist = stats.norm(mean_s, std_s)\n",
    "salary_dist"
   ]
  },
  {
   "cell_type": "markdown",
   "id": "fcbf8d56",
   "metadata": {},
   "source": [
    "a. What percent of employees earn less than 60,000?\n"
   ]
  },
  {
   "cell_type": "code",
   "execution_count": 113,
   "id": "423d741f",
   "metadata": {},
   "outputs": [
    {
     "data": {
      "text/plain": [
       "0.24385742480214423"
      ]
     },
     "execution_count": 113,
     "metadata": {},
     "output_type": "execute_result"
    }
   ],
   "source": [
    "under_60k = salary_dist.cdf(60_000)\n",
    "under_60k"
   ]
  },
  {
   "cell_type": "markdown",
   "id": "cceb411d",
   "metadata": {},
   "source": [
    "b. What percent of employees earn more than 95,000?\n"
   ]
  },
  {
   "cell_type": "code",
   "execution_count": 114,
   "id": "b1135a01",
   "metadata": {},
   "outputs": [
    {
     "data": {
      "text/plain": [
       "0.09208819199804053"
      ]
     },
     "execution_count": 114,
     "metadata": {},
     "output_type": "execute_result"
    }
   ],
   "source": [
    "over_95k = salary_dist.sf(95_000)\n",
    "over_95k"
   ]
  },
  {
   "cell_type": "markdown",
   "id": "978507f6",
   "metadata": {},
   "source": [
    "c. What percent of employees earn between 65,000 and 80,000?\n"
   ]
  },
  {
   "cell_type": "code",
   "execution_count": 116,
   "id": "23161f01",
   "metadata": {},
   "outputs": [
    {
     "data": {
      "text/plain": [
       "0.3350605685446666"
      ]
     },
     "execution_count": 116,
     "metadata": {},
     "output_type": "execute_result"
    }
   ],
   "source": [
    "between_65k_80k = salary_dist.cdf(80_000) - salary_dist.cdf(65_000)\n",
    "between_65k_80k\n",
    "                                                            "
   ]
  },
  {
   "cell_type": "markdown",
   "id": "98e7386e",
   "metadata": {},
   "source": [
    "d. What do the top 5% of employees make?\n"
   ]
  },
  {
   "cell_type": "code",
   "execution_count": 118,
   "id": "6141e8a9",
   "metadata": {},
   "outputs": [
    {
     "data": {
      "text/plain": [
       "100484.64454102777"
      ]
     },
     "execution_count": 118,
     "metadata": {},
     "output_type": "execute_result"
    }
   ],
   "source": [
    "salary_dist.isf(.05)"
   ]
  },
  {
   "cell_type": "code",
   "execution_count": null,
   "id": "6aabc7e9",
   "metadata": {},
   "outputs": [],
   "source": []
  }
 ],
 "metadata": {
  "kernelspec": {
   "display_name": "Python 3 (ipykernel)",
   "language": "python",
   "name": "python3"
  },
  "language_info": {
   "codemirror_mode": {
    "name": "ipython",
    "version": 3
   },
   "file_extension": ".py",
   "mimetype": "text/x-python",
   "name": "python",
   "nbconvert_exporter": "python",
   "pygments_lexer": "ipython3",
   "version": "3.10.9"
  }
 },
 "nbformat": 4,
 "nbformat_minor": 5
}
