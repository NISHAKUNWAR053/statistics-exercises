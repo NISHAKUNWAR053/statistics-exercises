{
 "cells": [
  {
   "cell_type": "code",
   "execution_count": 1,
   "id": "84f688f3",
   "metadata": {},
   "outputs": [],
   "source": [
    "import numpy as np\n",
    "from scipy import stats\n",
    "\n",
    "import matplotlib.pyplot as plt"
   ]
  },
  {
   "cell_type": "code",
   "execution_count": null,
   "id": "d54fcb6f",
   "metadata": {},
   "outputs": [],
   "source": [
    "num_simulation = 10_000"
   ]
  },
  {
   "cell_type": "markdown",
   "id": "b2b463f1",
   "metadata": {},
   "source": [
    "1. A bank found that the average number of cars waiting during the noon hour at a drive-up window follows a Poisson distribution with a mean of 2 cars. Make a chart of this distribution and answer these questions concerning the probability of cars waiting at the drive-up window.\n",
    "\n"
   ]
  },
  {
   "cell_type": "code",
   "execution_count": 2,
   "id": "eb94d155",
   "metadata": {},
   "outputs": [],
   "source": [
    "mean_cars = 2\n"
   ]
  },
  {
   "cell_type": "code",
   "execution_count": 3,
   "id": "17c5a563",
   "metadata": {},
   "outputs": [
    {
     "data": {
      "text/plain": [
       "<scipy.stats._distn_infrastructure.rv_discrete_frozen at 0x1337e8820>"
      ]
     },
     "execution_count": 3,
     "metadata": {},
     "output_type": "execute_result"
    }
   ],
   "source": [
    "distribution_poisson = stats.poisson(mean_cars)\n",
    "distribution_poisson"
   ]
  },
  {
   "cell_type": "code",
   "execution_count": 4,
   "id": "9e5e79c7",
   "metadata": {},
   "outputs": [],
   "source": [
    "car_simulation = distribution_poisson.rvs(10_000)"
   ]
  },
  {
   "cell_type": "markdown",
   "id": "73dc6a04",
   "metadata": {},
   "source": [
    "What is the probability that no cars drive up in the noon hour?\n"
   ]
  },
  {
   "cell_type": "code",
   "execution_count": 5,
   "id": "50e3d081",
   "metadata": {},
   "outputs": [
    {
     "data": {
      "text/plain": [
       "0.1334"
      ]
     },
     "execution_count": 5,
     "metadata": {},
     "output_type": "execute_result"
    }
   ],
   "source": [
    "no_cars = np.mean(car_simulation == 0)\n",
    "no_cars"
   ]
  },
  {
   "cell_type": "markdown",
   "id": "0b82816e",
   "metadata": {},
   "source": [
    "What is the probability that 3 or more cars come through the drive through?\n"
   ]
  },
  {
   "cell_type": "code",
   "execution_count": 6,
   "id": "7847bd7c",
   "metadata": {},
   "outputs": [
    {
     "data": {
      "text/plain": [
       "0.3221"
      ]
     },
     "execution_count": 6,
     "metadata": {},
     "output_type": "execute_result"
    }
   ],
   "source": [
    "three_or_more = np.mean(car_simulation >= 3)\n",
    "three_or_more"
   ]
  },
  {
   "cell_type": "markdown",
   "id": "78feaada",
   "metadata": {},
   "source": [
    "How likely is it that the drive through gets at least 1 car?\n"
   ]
  },
  {
   "cell_type": "code",
   "execution_count": 7,
   "id": "b4ab690e",
   "metadata": {},
   "outputs": [
    {
     "data": {
      "text/plain": [
       "0.8666"
      ]
     },
     "execution_count": 7,
     "metadata": {},
     "output_type": "execute_result"
    }
   ],
   "source": [
    "at_least_1 = np.mean(car_simulation >= 1)\n",
    "at_least_1"
   ]
  },
  {
   "cell_type": "markdown",
   "id": "6a183c0a",
   "metadata": {},
   "source": [
    "2. Grades of State University graduates are normally distributed with a mean of 3.0 and a standard deviation of .3. Calculate the following:"
   ]
  },
  {
   "cell_type": "code",
   "execution_count": 8,
   "id": "ff14584e",
   "metadata": {},
   "outputs": [],
   "source": [
    "mean = 3.0\n",
    "std_dev = 0.3"
   ]
  },
  {
   "cell_type": "code",
   "execution_count": 11,
   "id": "0e6619ea",
   "metadata": {},
   "outputs": [
    {
     "data": {
      "text/plain": [
       "<scipy.stats._distn_infrastructure.rv_continuous_frozen at 0x133ab4310>"
      ]
     },
     "execution_count": 11,
     "metadata": {},
     "output_type": "execute_result"
    }
   ],
   "source": [
    "grades = stats.norm(3, 0.3)\n",
    "grades\n"
   ]
  },
  {
   "cell_type": "markdown",
   "id": "b1b70290",
   "metadata": {},
   "source": [
    "What grade point average is required to be in the top 5% of the graduating class?\n"
   ]
  },
  {
   "cell_type": "code",
   "execution_count": 12,
   "id": "db77b475",
   "metadata": {},
   "outputs": [
    {
     "data": {
      "text/plain": [
       "3.4934560880854417"
      ]
     },
     "execution_count": 12,
     "metadata": {},
     "output_type": "execute_result"
    }
   ],
   "source": [
    "top_five = grades.ppf(0.95)\n",
    "top_five"
   ]
  },
  {
   "cell_type": "markdown",
   "id": "f6219612",
   "metadata": {},
   "source": [
    "What GPA constitutes the bottom 15% of the class?\n"
   ]
  },
  {
   "cell_type": "code",
   "execution_count": 13,
   "id": "a531e2a1",
   "metadata": {},
   "outputs": [
    {
     "data": {
      "text/plain": [
       "2.689069983151863"
      ]
     },
     "execution_count": 13,
     "metadata": {},
     "output_type": "execute_result"
    }
   ],
   "source": [
    "bottom_15 = grades.ppf(0.15)\n",
    "bottom_15"
   ]
  },
  {
   "cell_type": "markdown",
   "id": "de1b29ce",
   "metadata": {},
   "source": [
    "An eccentric alumnus left scholarship money for students in the third decile from the bottom of their class. Determine the range of the third decile. Would a student with a 2.8 grade point average qualify for this scholarship?"
   ]
  },
  {
   "cell_type": "code",
   "execution_count": 27,
   "id": "4ecaa9a7",
   "metadata": {},
   "outputs": [],
   "source": [
    "third_decile_bottom = grades.ppf(0.2)\n",
    "third_decile_top = grades.ppf(0.3)\n"
   ]
  },
  {
   "cell_type": "code",
   "execution_count": 31,
   "id": "da9c66e9",
   "metadata": {},
   "outputs": [],
   "source": [
    "sclp_gpa = 2.8"
   ]
  },
  {
   "cell_type": "code",
   "execution_count": 32,
   "id": "61a8de1f",
   "metadata": {},
   "outputs": [],
   "source": [
    "sch_percent = grades.cdf(sclp_gpa) * 100"
   ]
  },
  {
   "cell_type": "code",
   "execution_count": null,
   "id": "e41de3ff",
   "metadata": {},
   "outputs": [],
   "source": []
  },
  {
   "cell_type": "markdown",
   "id": "579617ac",
   "metadata": {},
   "source": [
    "If I have a GPA of 3.5, what percentile am I in?\n"
   ]
  },
  {
   "cell_type": "code",
   "execution_count": 38,
   "id": "ea244366",
   "metadata": {},
   "outputs": [],
   "source": [
    "my_gpa = 3.5"
   ]
  },
  {
   "cell_type": "code",
   "execution_count": 40,
   "id": "1b9c8be7",
   "metadata": {},
   "outputs": [
    {
     "data": {
      "text/plain": [
       "95.22096477271853"
      ]
     },
     "execution_count": 40,
     "metadata": {},
     "output_type": "execute_result"
    }
   ],
   "source": [
    "my_percentile = grades.cdf(my_gpa) * 100\n",
    "my_percentile"
   ]
  },
  {
   "cell_type": "markdown",
   "id": "01dbc9c3",
   "metadata": {},
   "source": [
    "3. A marketing website has an average click-through rate of 2%. One day they observe 4326 visitors and 97 click-throughs. How likely is it that this many people or more click through?\n",
    "\n"
   ]
  },
  {
   "cell_type": "code",
   "execution_count": 55,
   "id": "7435494d",
   "metadata": {},
   "outputs": [
    {
     "data": {
      "text/plain": [
       "array([85, 88, 76, ..., 97, 86, 93])"
      ]
     },
     "execution_count": 55,
     "metadata": {},
     "output_type": "execute_result"
    }
   ],
   "source": [
    "random_click = np.random.binomial(4326, 0.02, 10_000)\n",
    "random_click"
   ]
  },
  {
   "cell_type": "code",
   "execution_count": 56,
   "id": "ed09def8",
   "metadata": {},
   "outputs": [
    {
     "data": {
      "text/plain": [
       "0.1397"
      ]
     },
     "execution_count": 56,
     "metadata": {},
     "output_type": "execute_result"
    }
   ],
   "source": [
    "likely_or_more = sum(random_click > 96) / 10_000\n",
    "likely_or_more"
   ]
  },
  {
   "cell_type": "markdown",
   "id": "c5349416",
   "metadata": {},
   "source": [
    "4. You are working on some statistics homework consisting of 100 questions where all of the answers are a probability rounded to the hundreths place. Looking to save time, you put down random probabilities as the answer to each question.\n",
    "\n",
    "What is the probability that at least one of your first 60 answers is correct?\n",
    "\n"
   ]
  },
  {
   "cell_type": "code",
   "execution_count": 57,
   "id": "ba832c86",
   "metadata": {},
   "outputs": [
    {
     "data": {
      "text/plain": [
       "0.45284335760923855"
      ]
     },
     "execution_count": 57,
     "metadata": {},
     "output_type": "execute_result"
    }
   ],
   "source": [
    "got_lucky = stats.binom(60, .01).sf(0)\n",
    "got_lucky"
   ]
  },
  {
   "cell_type": "code",
   "execution_count": 58,
   "id": "6ad656e3",
   "metadata": {},
   "outputs": [],
   "source": [
    "correct_question = 60"
   ]
  },
  {
   "cell_type": "code",
   "execution_count": 60,
   "id": "d92250cb",
   "metadata": {},
   "outputs": [],
   "source": [
    "simulations = np.random.rand(10_000, 60) < 0.01"
   ]
  },
  {
   "cell_type": "code",
   "execution_count": 61,
   "id": "52032d24",
   "metadata": {},
   "outputs": [],
   "source": [
    "correct_answer = np.sum(np.any(simulations, axis = 1))"
   ]
  },
  {
   "cell_type": "code",
   "execution_count": 62,
   "id": "91c05e61",
   "metadata": {},
   "outputs": [
    {
     "data": {
      "text/plain": [
       "0.4581"
      ]
     },
     "execution_count": 62,
     "metadata": {},
     "output_type": "execute_result"
    }
   ],
   "source": [
    "probability = correct_answer / 10_000\n",
    "probability"
   ]
  },
  {
   "cell_type": "markdown",
   "id": "d360c31f",
   "metadata": {},
   "source": [
    "5. The codeup staff tends to get upset when the student break area is not cleaned up. Suppose that there's a 3% chance that any one student cleans the break area when they visit it, and, on any given day, about 90% of the 3 active cohorts of 22 students visit the break area. How likely is it that the break area gets cleaned up each day? How likely is it that it goes two days without getting cleaned up? All week?"
   ]
  },
  {
   "cell_type": "code",
   "execution_count": 76,
   "id": "8cffe19c",
   "metadata": {},
   "outputs": [],
   "source": [
    "no_of_student = int(0.9 * 3 * 22)\n",
    "who_cleans = stats.binom(no_of_student, 0.3)"
   ]
  },
  {
   "cell_type": "markdown",
   "id": "1bc4a241",
   "metadata": {},
   "source": [
    "How likely is it that the break area gets cleaned up each day?"
   ]
  },
  {
   "cell_type": "code",
   "execution_count": 77,
   "id": "58d16c2f",
   "metadata": {},
   "outputs": [
    {
     "data": {
      "text/plain": [
       "0.9999999992742545"
      ]
     },
     "execution_count": 77,
     "metadata": {},
     "output_type": "execute_result"
    }
   ],
   "source": [
    "each_day = who_cleans.sf(0)\n",
    "each_day"
   ]
  },
  {
   "cell_type": "markdown",
   "id": "40e05379",
   "metadata": {},
   "source": [
    "How likely is it that it goes two days without getting cleaned up? All week?"
   ]
  },
  {
   "cell_type": "code",
   "execution_count": 78,
   "id": "ea0f9517",
   "metadata": {},
   "outputs": [
    {
     "data": {
      "text/plain": [
       "5.267065530394907e-19"
      ]
     },
     "execution_count": 78,
     "metadata": {},
     "output_type": "execute_result"
    }
   ],
   "source": [
    "two_days = who_cleans.cdf(0) ** 2\n",
    "two_days"
   ]
  },
  {
   "cell_type": "code",
   "execution_count": 79,
   "id": "1b89e238",
   "metadata": {},
   "outputs": [
    {
     "data": {
      "text/plain": [
       "2.0133617064764373e-46"
      ]
     },
     "execution_count": 79,
     "metadata": {},
     "output_type": "execute_result"
    }
   ],
   "source": [
    "all_week = who_cleans.cdf(0) ** 5\n",
    "all_week"
   ]
  },
  {
   "cell_type": "markdown",
   "id": "31ae0c17",
   "metadata": {},
   "source": [
    "6. You want to get lunch at La Panaderia, but notice that the line is usually very long at lunchtime. After several weeks of careful observation, you notice that the average number of people in line when your lunch break starts is normally distributed with a mean of 15 and standard deviation of 3. If it takes 2 minutes for each person to order, and 10 minutes from ordering to getting your food, what is the likelihood that you have at least 15 minutes left to eat your food before you have to go back to class? Assume you have one hour for lunch, and ignore travel time to and from La Panaderia.\n",
    "\n"
   ]
  },
  {
   "cell_type": "code",
   "execution_count": 87,
   "id": "5824d4c4",
   "metadata": {},
   "outputs": [],
   "source": [
    "\n",
    "people_in_line_mean = 15\n",
    "people_in_line_stdv = 3\n",
    "\n",
    "# mean and standard deviation of waiting time in minutes\n",
    "mean_wait_time = 15 * 2\n",
    "std_dev_wait_time = 3* 2\n",
    "\n"
   ]
  },
  {
   "cell_type": "code",
   "execution_count": 89,
   "id": "4e2d7e38",
   "metadata": {},
   "outputs": [
    {
     "data": {
      "text/plain": [
       "<scipy.stats._distn_infrastructure.rv_continuous_frozen at 0x133acd5d0>"
      ]
     },
     "execution_count": 89,
     "metadata": {},
     "output_type": "execute_result"
    }
   ],
   "source": [
    "lunch = stats.norm(15,3)\n",
    "lunch"
   ]
  },
  {
   "cell_type": "markdown",
   "id": "2bf82bc6",
   "metadata": {},
   "source": [
    "7. Connect to the employees database and find the average salary of current employees, along with the standard deviation. For the following questions, calculate the answer based on modeling the employees salaries with a normal distribution defined by the calculated mean and standard deviation then compare this answer to the actual values present in the salaries dataset."
   ]
  },
  {
   "cell_type": "code",
   "execution_count": 99,
   "id": "24caf9c0",
   "metadata": {},
   "outputs": [],
   "source": [
    "import pandas as pd\n",
    "from sqlalchemy import text, create_engine\n",
    "import env "
   ]
  },
  {
   "cell_type": "code",
   "execution_count": 100,
   "id": "2a4a7817",
   "metadata": {
    "scrolled": true
   },
   "outputs": [],
   "source": [
    "url = env.get_connection('employees')"
   ]
  },
  {
   "cell_type": "code",
   "execution_count": 101,
   "id": "96bf96a9",
   "metadata": {},
   "outputs": [],
   "source": [
    "engine = create_engine(url)"
   ]
  },
  {
   "cell_type": "code",
   "execution_count": 102,
   "id": "ed39b4fa",
   "metadata": {},
   "outputs": [],
   "source": [
    "query = '''\n",
    "        SELECT *\n",
    "        FROM salaries\n",
    "        WHERE to_date > CURDATE()\n",
    "        '''"
   ]
  },
  {
   "cell_type": "code",
   "execution_count": 104,
   "id": "defe1676",
   "metadata": {},
   "outputs": [
    {
     "data": {
      "text/html": [
       "<div>\n",
       "<style scoped>\n",
       "    .dataframe tbody tr th:only-of-type {\n",
       "        vertical-align: middle;\n",
       "    }\n",
       "\n",
       "    .dataframe tbody tr th {\n",
       "        vertical-align: top;\n",
       "    }\n",
       "\n",
       "    .dataframe thead th {\n",
       "        text-align: right;\n",
       "    }\n",
       "</style>\n",
       "<table border=\"1\" class=\"dataframe\">\n",
       "  <thead>\n",
       "    <tr style=\"text-align: right;\">\n",
       "      <th></th>\n",
       "      <th>emp_no</th>\n",
       "      <th>salary</th>\n",
       "      <th>from_date</th>\n",
       "      <th>to_date</th>\n",
       "    </tr>\n",
       "  </thead>\n",
       "  <tbody>\n",
       "    <tr>\n",
       "      <th>0</th>\n",
       "      <td>10001</td>\n",
       "      <td>88958</td>\n",
       "      <td>2002-06-22</td>\n",
       "      <td>9999-01-01</td>\n",
       "    </tr>\n",
       "    <tr>\n",
       "      <th>1</th>\n",
       "      <td>10002</td>\n",
       "      <td>72527</td>\n",
       "      <td>2001-08-02</td>\n",
       "      <td>9999-01-01</td>\n",
       "    </tr>\n",
       "    <tr>\n",
       "      <th>2</th>\n",
       "      <td>10003</td>\n",
       "      <td>43311</td>\n",
       "      <td>2001-12-01</td>\n",
       "      <td>9999-01-01</td>\n",
       "    </tr>\n",
       "    <tr>\n",
       "      <th>3</th>\n",
       "      <td>10004</td>\n",
       "      <td>74057</td>\n",
       "      <td>2001-11-27</td>\n",
       "      <td>9999-01-01</td>\n",
       "    </tr>\n",
       "    <tr>\n",
       "      <th>4</th>\n",
       "      <td>10005</td>\n",
       "      <td>94692</td>\n",
       "      <td>2001-09-09</td>\n",
       "      <td>9999-01-01</td>\n",
       "    </tr>\n",
       "  </tbody>\n",
       "</table>\n",
       "</div>"
      ],
      "text/plain": [
       "   emp_no  salary   from_date     to_date\n",
       "0   10001   88958  2002-06-22  9999-01-01\n",
       "1   10002   72527  2001-08-02  9999-01-01\n",
       "2   10003   43311  2001-12-01  9999-01-01\n",
       "3   10004   74057  2001-11-27  9999-01-01\n",
       "4   10005   94692  2001-09-09  9999-01-01"
      ]
     },
     "execution_count": 104,
     "metadata": {},
     "output_type": "execute_result"
    }
   ],
   "source": [
    "salary_df = pd.read_sql(query, engine)\n",
    "salary_df.head()"
   ]
  },
  {
   "cell_type": "code",
   "execution_count": 109,
   "id": "2f81726f",
   "metadata": {},
   "outputs": [],
   "source": [
    "mean_s = salary_df['salary'].mean()"
   ]
  },
  {
   "cell_type": "code",
   "execution_count": 110,
   "id": "0ad03523",
   "metadata": {},
   "outputs": [],
   "source": [
    "std_s = salary_df['salary'].std()"
   ]
  },
  {
   "cell_type": "code",
   "execution_count": 112,
   "id": "5dc7c201",
   "metadata": {},
   "outputs": [
    {
     "data": {
      "text/plain": [
       "<scipy.stats._distn_infrastructure.rv_continuous_frozen at 0x143d28cd0>"
      ]
     },
     "execution_count": 112,
     "metadata": {},
     "output_type": "execute_result"
    }
   ],
   "source": [
    "salary_dist = stats.norm(mean_s, std_s)\n",
    "salary_dist"
   ]
  },
  {
   "cell_type": "markdown",
   "id": "2c601e3c",
   "metadata": {},
   "source": [
    "a. What percent of employees earn less than 60,000?\n"
   ]
  },
  {
   "cell_type": "code",
   "execution_count": 113,
   "id": "05585228",
   "metadata": {},
   "outputs": [
    {
     "data": {
      "text/plain": [
       "0.24385742480214423"
      ]
     },
     "execution_count": 113,
     "metadata": {},
     "output_type": "execute_result"
    }
   ],
   "source": [
    "under_60k = salary_dist.cdf(60_000)\n",
    "under_60k"
   ]
  },
  {
   "cell_type": "markdown",
   "id": "61281b1e",
   "metadata": {},
   "source": [
    "b. What percent of employees earn more than 95,000?\n"
   ]
  },
  {
   "cell_type": "code",
   "execution_count": 114,
   "id": "ee86faf4",
   "metadata": {},
   "outputs": [
    {
     "data": {
      "text/plain": [
       "0.09208819199804053"
      ]
     },
     "execution_count": 114,
     "metadata": {},
     "output_type": "execute_result"
    }
   ],
   "source": [
    "over_95k = salary_dist.sf(95_000)\n",
    "over_95k"
   ]
  },
  {
   "cell_type": "markdown",
   "id": "adff7085",
   "metadata": {},
   "source": [
    "c. What percent of employees earn between 65,000 and 80,000?\n"
   ]
  },
  {
   "cell_type": "code",
   "execution_count": 116,
   "id": "be56d22f",
   "metadata": {},
   "outputs": [
    {
     "data": {
      "text/plain": [
       "0.3350605685446666"
      ]
     },
     "execution_count": 116,
     "metadata": {},
     "output_type": "execute_result"
    }
   ],
   "source": [
    "between_65k_80k = salary_dist.cdf(80_000) - salary_dist.cdf(65_000)\n",
    "between_65k_80k\n",
    "                                                            "
   ]
  },
  {
   "cell_type": "markdown",
   "id": "1ca99d6a",
   "metadata": {},
   "source": [
    "d. What do the top 5% of employees make?\n"
   ]
  },
  {
   "cell_type": "code",
   "execution_count": 118,
   "id": "3dbb0a63",
   "metadata": {},
   "outputs": [
    {
     "data": {
      "text/plain": [
       "100484.64454102777"
      ]
     },
     "execution_count": 118,
     "metadata": {},
     "output_type": "execute_result"
    }
   ],
   "source": [
    "salary_dist.isf(.05)"
   ]
  },
  {
   "cell_type": "code",
   "execution_count": null,
   "id": "c5a3adb0",
   "metadata": {},
   "outputs": [],
   "source": []
  }
 ],
 "metadata": {
  "kernelspec": {
   "display_name": "Python 3 (ipykernel)",
   "language": "python",
   "name": "python3"
  },
  "language_info": {
   "codemirror_mode": {
    "name": "ipython",
    "version": 3
   },
   "file_extension": ".py",
   "mimetype": "text/x-python",
   "name": "python",
   "nbconvert_exporter": "python",
   "pygments_lexer": "ipython3",
   "version": "3.10.9"
  }
 },
 "nbformat": 4,
 "nbformat_minor": 5
}
