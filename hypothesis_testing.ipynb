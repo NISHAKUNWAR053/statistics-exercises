{
 "cells": [
  {
   "cell_type": "markdown",
   "id": "574cf571",
   "metadata": {},
   "source": [
    "For each of the following questions, formulate a null and alternative hypothesis (be as specific as you can be), then give an example of what a true positive, true negative, type I and type II errors would look like. Note that some of the questions are intentionally phrased in a vague way. It is your job to reword these as more precise questions that could be tested."
   ]
  },
  {
   "cell_type": "markdown",
   "id": "fcbb92bb",
   "metadata": {},
   "source": [
    "# Has the network latency gone up since we switched internet service providers?\n"
   ]
  },
  {
   "cell_type": "markdown",
   "id": "ad813c83",
   "metadata": {},
   "source": [
    "    * Null hypothesis(HO) : The network latency have not changes since switching intenet serive provider.\n",
    "    * Alterative hypothesis(Ha) : Change of internet serive provider has increased our network latency.\n",
    "    * True Positive : We reject 👍🏻 the null hypothesis in favor of alternate hypothesis since the data shows that the network latency has increased after switching providers.\n",
    "    * True Negative : We fail 👎🏻 to reject that the change of provider had the effect of increasing latency.\n",
    "    * Type I Error : The data shows that network 🛜 latency have gone up 🆙 but it is not true. \n",
    "    * Type II Error: The data shows that network latency have not changed but it is not true. \n",
    "    \n"
   ]
  },
  {
   "cell_type": "markdown",
   "id": "34638564",
   "metadata": {},
   "source": [
    "# Is the website redesign any good?\n"
   ]
  },
  {
   "cell_type": "markdown",
   "id": "9b0b0d1b",
   "metadata": {},
   "source": [
    "    * Null hypothesis(HO) : Website redesign has not improved user satisfaction .👎🏻 \n",
    "    * Alterative hypothesis(Ha) : Website redesign has improved user satisfaction. 👍🏻\n",
    "    * True Positive : Website redesign shows improvement and we reject null hypothesis in favor of alternative hypothesis. \n",
    "    * True negative : Website redesign do not shows up significant improvements and we fail to reject null hypothesis. \n",
    "    * Type I Error : Redesigning website do not show any improvements but it is not true. \n",
    "    * Type II Error: Redesigning website shows significant improvements but it is not true."
   ]
  },
  {
   "cell_type": "markdown",
   "id": "e498fc4e",
   "metadata": {},
   "source": [
    "# Is our television ad driving more sales?\n"
   ]
  },
  {
   "cell_type": "markdown",
   "id": "43ba2f88",
   "metadata": {},
   "source": [
    "    * Null hypothesis(HO) : Driving more Television add has not led to an increased sales.\n",
    "    * Alterative hypothesis(Ha) : Television ad driving has led to an increase in sales. \n",
    "    * True positive : After running ad, sales shows significant increase, and we reject null hypothesis in favor of alternative hypothesis. \n",
    "    * True negative : After running ad, sales do not shows significant increase, and we fail to reject null hypothesis.\n",
    "    * Type I Error : Sales indicate that ad has had positive affect when it has not. \n",
    "    * Type II Error : Result indicate that ad has not had a positive effect on sales, when it has. "
   ]
  },
  {
   "cell_type": "markdown",
   "id": "60fef5fa",
   "metadata": {},
   "source": [
    "# 1.Use the following contingency table to help answer the question of whether using a macbook and being a codeup student are independent of each other.\n",
    "\n",
    " \t                Codeup Student\t     Not Codeup Student\n",
    "                    \n",
    "          Uses a Macbook\t         49              20\n",
    "   \n",
    "          Doesn't Use A Macbook\t          1\t                30"
   ]
  },
  {
   "cell_type": "markdown",
   "id": "6a2a90f9",
   "metadata": {},
   "source": [
    " H0 = using a macbook and being a codeup student are indepndent of each other\n",
    " \n",
    " Ha = There is significant association between using a macbook and being codeup student. "
   ]
  },
  {
   "cell_type": "markdown",
   "id": "bb34dd82",
   "metadata": {},
   "source": [
    "# 2. Choose another 2 categorical variables from the mpg dataset."
   ]
  },
  {
   "cell_type": "code",
   "execution_count": 28,
   "id": "9d3c5f94",
   "metadata": {},
   "outputs": [],
   "source": [
    "import numpy as np\n",
    "import pandas as pd\n",
    "\n",
    "from pydataset import data\n",
    "from scipy import stats"
   ]
  },
  {
   "cell_type": "code",
   "execution_count": 29,
   "id": "f411fc18",
   "metadata": {},
   "outputs": [
    {
     "data": {
      "text/html": [
       "<div>\n",
       "<style scoped>\n",
       "    .dataframe tbody tr th:only-of-type {\n",
       "        vertical-align: middle;\n",
       "    }\n",
       "\n",
       "    .dataframe tbody tr th {\n",
       "        vertical-align: top;\n",
       "    }\n",
       "\n",
       "    .dataframe thead th {\n",
       "        text-align: right;\n",
       "    }\n",
       "</style>\n",
       "<table border=\"1\" class=\"dataframe\">\n",
       "  <thead>\n",
       "    <tr style=\"text-align: right;\">\n",
       "      <th></th>\n",
       "      <th>manufacturer</th>\n",
       "      <th>model</th>\n",
       "      <th>displ</th>\n",
       "      <th>year</th>\n",
       "      <th>cyl</th>\n",
       "      <th>trans</th>\n",
       "      <th>drv</th>\n",
       "      <th>cty</th>\n",
       "      <th>hwy</th>\n",
       "      <th>fl</th>\n",
       "      <th>class</th>\n",
       "    </tr>\n",
       "  </thead>\n",
       "  <tbody>\n",
       "    <tr>\n",
       "      <th>1</th>\n",
       "      <td>audi</td>\n",
       "      <td>a4</td>\n",
       "      <td>1.8</td>\n",
       "      <td>1999</td>\n",
       "      <td>4</td>\n",
       "      <td>auto(l5)</td>\n",
       "      <td>f</td>\n",
       "      <td>18</td>\n",
       "      <td>29</td>\n",
       "      <td>p</td>\n",
       "      <td>compact</td>\n",
       "    </tr>\n",
       "    <tr>\n",
       "      <th>2</th>\n",
       "      <td>audi</td>\n",
       "      <td>a4</td>\n",
       "      <td>1.8</td>\n",
       "      <td>1999</td>\n",
       "      <td>4</td>\n",
       "      <td>manual(m5)</td>\n",
       "      <td>f</td>\n",
       "      <td>21</td>\n",
       "      <td>29</td>\n",
       "      <td>p</td>\n",
       "      <td>compact</td>\n",
       "    </tr>\n",
       "    <tr>\n",
       "      <th>3</th>\n",
       "      <td>audi</td>\n",
       "      <td>a4</td>\n",
       "      <td>2.0</td>\n",
       "      <td>2008</td>\n",
       "      <td>4</td>\n",
       "      <td>manual(m6)</td>\n",
       "      <td>f</td>\n",
       "      <td>20</td>\n",
       "      <td>31</td>\n",
       "      <td>p</td>\n",
       "      <td>compact</td>\n",
       "    </tr>\n",
       "    <tr>\n",
       "      <th>4</th>\n",
       "      <td>audi</td>\n",
       "      <td>a4</td>\n",
       "      <td>2.0</td>\n",
       "      <td>2008</td>\n",
       "      <td>4</td>\n",
       "      <td>auto(av)</td>\n",
       "      <td>f</td>\n",
       "      <td>21</td>\n",
       "      <td>30</td>\n",
       "      <td>p</td>\n",
       "      <td>compact</td>\n",
       "    </tr>\n",
       "    <tr>\n",
       "      <th>5</th>\n",
       "      <td>audi</td>\n",
       "      <td>a4</td>\n",
       "      <td>2.8</td>\n",
       "      <td>1999</td>\n",
       "      <td>6</td>\n",
       "      <td>auto(l5)</td>\n",
       "      <td>f</td>\n",
       "      <td>16</td>\n",
       "      <td>26</td>\n",
       "      <td>p</td>\n",
       "      <td>compact</td>\n",
       "    </tr>\n",
       "  </tbody>\n",
       "</table>\n",
       "</div>"
      ],
      "text/plain": [
       "  manufacturer model  displ  year  cyl       trans drv  cty  hwy fl    class\n",
       "1         audi    a4    1.8  1999    4    auto(l5)   f   18   29  p  compact\n",
       "2         audi    a4    1.8  1999    4  manual(m5)   f   21   29  p  compact\n",
       "3         audi    a4    2.0  2008    4  manual(m6)   f   20   31  p  compact\n",
       "4         audi    a4    2.0  2008    4    auto(av)   f   21   30  p  compact\n",
       "5         audi    a4    2.8  1999    6    auto(l5)   f   16   26  p  compact"
      ]
     },
     "execution_count": 29,
     "metadata": {},
     "output_type": "execute_result"
    }
   ],
   "source": [
    "mpg = data('mpg')\n",
    "mpg.head()"
   ]
  },
  {
   "cell_type": "markdown",
   "id": "06ff576a",
   "metadata": {},
   "source": [
    "# State your null and alternative hypotheses.\n"
   ]
  },
  {
   "cell_type": "markdown",
   "id": "b9771e8f",
   "metadata": {},
   "source": [
    "class and drv\n",
    "\n",
    "class represent the veicle type or class\n",
    "\n",
    "drv represent the drive type\n",
    "\n",
    "Null hypothesis(Ho) = There is no association between the vehicle class and the drv type. \n",
    "\n",
    "Alternative hypothesis(Ha) = There is significant association between the vehicle class and the drv type. "
   ]
  },
  {
   "cell_type": "markdown",
   "id": "768febb5",
   "metadata": {},
   "source": [
    "# State your alpha.\n"
   ]
  },
  {
   "cell_type": "markdown",
   "id": "5a0b6443",
   "metadata": {},
   "source": [
    "In here suppose we give alpha to 0.01\n",
    "Accepts 1% chance of making type I error. \n",
    "Setting 1% we indicate we want to be 99% confident in our decision to either reject or fail to reject the null hypothesis(Ho)"
   ]
  },
  {
   "cell_type": "code",
   "execution_count": 40,
   "id": "75a0c805",
   "metadata": {},
   "outputs": [],
   "source": [
    "ct = pd.crosstab(mpg['class'], mpg.drv)\n"
   ]
  },
  {
   "cell_type": "code",
   "execution_count": 41,
   "id": "0a5bdfbd",
   "metadata": {},
   "outputs": [],
   "source": [
    "chi, p, degf, exp = stats.chi2_contingency(ct)"
   ]
  },
  {
   "cell_type": "code",
   "execution_count": 43,
   "id": "71cc1575",
   "metadata": {},
   "outputs": [
    {
     "name": "stdout",
     "output_type": "stream",
     "text": [
      "we reject the null hypothesis. There appears to be a relationship.\n"
     ]
    }
   ],
   "source": [
    "a = 0.01\n",
    "if p < a :\n",
    "    print('we reject the null hypothesis. There appears to be a relationship.')\n",
    "else: \n",
    "    print('we fail to reject the null hypothesis.')"
   ]
  },
  {
   "cell_type": "markdown",
   "id": "ef3f9e63",
   "metadata": {},
   "source": [
    "# Perform a chi2 test of indepedence."
   ]
  },
  {
   "cell_type": "code",
   "execution_count": 44,
   "id": "500fadd3",
   "metadata": {},
   "outputs": [],
   "source": [
    "chi, p, degf, exp = stats.chi2_contingency(ct)"
   ]
  },
  {
   "cell_type": "code",
   "execution_count": 45,
   "id": "7582a339",
   "metadata": {},
   "outputs": [
    {
     "data": {
      "text/plain": [
       "221.60114385352526"
      ]
     },
     "execution_count": 45,
     "metadata": {},
     "output_type": "execute_result"
    }
   ],
   "source": [
    "chi"
   ]
  },
  {
   "cell_type": "code",
   "execution_count": 46,
   "id": "b4170bd4",
   "metadata": {},
   "outputs": [
    {
     "data": {
      "text/plain": [
       "1.104881117447524e-40"
      ]
     },
     "execution_count": 46,
     "metadata": {},
     "output_type": "execute_result"
    }
   ],
   "source": [
    "p"
   ]
  },
  {
   "cell_type": "code",
   "execution_count": 47,
   "id": "adcd6634",
   "metadata": {},
   "outputs": [
    {
     "data": {
      "text/plain": [
       "12"
      ]
     },
     "execution_count": 47,
     "metadata": {},
     "output_type": "execute_result"
    }
   ],
   "source": [
    "degf"
   ]
  },
  {
   "cell_type": "code",
   "execution_count": 48,
   "id": "ba978621",
   "metadata": {},
   "outputs": [
    {
     "data": {
      "text/plain": [
       "array([[ 2.2008547 ,  2.26495726,  0.53418803],\n",
       "       [20.68803419, 21.29059829,  5.02136752],\n",
       "       [18.04700855, 18.57264957,  4.38034188],\n",
       "       [ 4.84188034,  4.98290598,  1.17521368],\n",
       "       [14.52564103, 14.94871795,  3.52564103],\n",
       "       [15.40598291, 15.85470085,  3.73931624],\n",
       "       [27.29059829, 28.08547009,  6.62393162]])"
      ]
     },
     "execution_count": 48,
     "metadata": {},
     "output_type": "execute_result"
    }
   ],
   "source": [
    "exp"
   ]
  },
  {
   "cell_type": "markdown",
   "id": "2ad3e2ba",
   "metadata": {},
   "source": [
    "# Use the data from the employees database to answer these questions:\n",
    "Is an employee's gender independent of whether an employee works in sales or marketing? (only look at current employees)\n"
   ]
  },
  {
   "cell_type": "code",
   "execution_count": 55,
   "id": "6b92ca2d",
   "metadata": {},
   "outputs": [],
   "source": [
    "from sqlalchemy import text, create_engine\n",
    "import env"
   ]
  },
  {
   "cell_type": "code",
   "execution_count": 56,
   "id": "0be96ff2",
   "metadata": {},
   "outputs": [],
   "source": [
    "url = env.get_connection('employees')"
   ]
  },
  {
   "cell_type": "code",
   "execution_count": 57,
   "id": "de692c90",
   "metadata": {},
   "outputs": [],
   "source": [
    "engine = create_engine(url)"
   ]
  },
  {
   "cell_type": "code",
   "execution_count": 68,
   "id": "9b87b0d9",
   "metadata": {},
   "outputs": [],
   "source": [
    "query = '''\n",
    "        SELECT * FROM employees as e\n",
    "        JOIN dept_emp as DE USING(emp_no)\n",
    "        JOIN departments as DN USING(dept_no)\n",
    "        WHERE to_date > CURDATE()\n",
    "        '''\n"
   ]
  },
  {
   "cell_type": "code",
   "execution_count": 69,
   "id": "d018283f",
   "metadata": {},
   "outputs": [
    {
     "data": {
      "text/html": [
       "<div>\n",
       "<style scoped>\n",
       "    .dataframe tbody tr th:only-of-type {\n",
       "        vertical-align: middle;\n",
       "    }\n",
       "\n",
       "    .dataframe tbody tr th {\n",
       "        vertical-align: top;\n",
       "    }\n",
       "\n",
       "    .dataframe thead th {\n",
       "        text-align: right;\n",
       "    }\n",
       "</style>\n",
       "<table border=\"1\" class=\"dataframe\">\n",
       "  <thead>\n",
       "    <tr style=\"text-align: right;\">\n",
       "      <th></th>\n",
       "      <th>dept_no</th>\n",
       "      <th>emp_no</th>\n",
       "      <th>birth_date</th>\n",
       "      <th>first_name</th>\n",
       "      <th>last_name</th>\n",
       "      <th>gender</th>\n",
       "      <th>hire_date</th>\n",
       "      <th>from_date</th>\n",
       "      <th>to_date</th>\n",
       "      <th>dept_name</th>\n",
       "    </tr>\n",
       "  </thead>\n",
       "  <tbody>\n",
       "    <tr>\n",
       "      <th>0</th>\n",
       "      <td>d009</td>\n",
       "      <td>10038</td>\n",
       "      <td>1960-07-20</td>\n",
       "      <td>Huan</td>\n",
       "      <td>Lortz</td>\n",
       "      <td>M</td>\n",
       "      <td>1989-09-20</td>\n",
       "      <td>1989-09-20</td>\n",
       "      <td>9999-01-01</td>\n",
       "      <td>Customer Service</td>\n",
       "    </tr>\n",
       "    <tr>\n",
       "      <th>1</th>\n",
       "      <td>d009</td>\n",
       "      <td>10049</td>\n",
       "      <td>1961-04-24</td>\n",
       "      <td>Basil</td>\n",
       "      <td>Tramer</td>\n",
       "      <td>F</td>\n",
       "      <td>1992-05-04</td>\n",
       "      <td>1992-05-04</td>\n",
       "      <td>9999-01-01</td>\n",
       "      <td>Customer Service</td>\n",
       "    </tr>\n",
       "    <tr>\n",
       "      <th>2</th>\n",
       "      <td>d009</td>\n",
       "      <td>10060</td>\n",
       "      <td>1961-10-15</td>\n",
       "      <td>Breannda</td>\n",
       "      <td>Billingsley</td>\n",
       "      <td>M</td>\n",
       "      <td>1987-11-02</td>\n",
       "      <td>1992-11-11</td>\n",
       "      <td>9999-01-01</td>\n",
       "      <td>Customer Service</td>\n",
       "    </tr>\n",
       "    <tr>\n",
       "      <th>3</th>\n",
       "      <td>d009</td>\n",
       "      <td>10088</td>\n",
       "      <td>1954-02-25</td>\n",
       "      <td>Jungsoon</td>\n",
       "      <td>Syrzycki</td>\n",
       "      <td>F</td>\n",
       "      <td>1988-09-02</td>\n",
       "      <td>1992-03-21</td>\n",
       "      <td>9999-01-01</td>\n",
       "      <td>Customer Service</td>\n",
       "    </tr>\n",
       "    <tr>\n",
       "      <th>4</th>\n",
       "      <td>d009</td>\n",
       "      <td>10112</td>\n",
       "      <td>1963-08-13</td>\n",
       "      <td>Yuichiro</td>\n",
       "      <td>Swick</td>\n",
       "      <td>F</td>\n",
       "      <td>1985-10-08</td>\n",
       "      <td>1998-05-01</td>\n",
       "      <td>9999-01-01</td>\n",
       "      <td>Customer Service</td>\n",
       "    </tr>\n",
       "    <tr>\n",
       "      <th>...</th>\n",
       "      <td>...</td>\n",
       "      <td>...</td>\n",
       "      <td>...</td>\n",
       "      <td>...</td>\n",
       "      <td>...</td>\n",
       "      <td>...</td>\n",
       "      <td>...</td>\n",
       "      <td>...</td>\n",
       "      <td>...</td>\n",
       "      <td>...</td>\n",
       "    </tr>\n",
       "    <tr>\n",
       "      <th>240119</th>\n",
       "      <td>d007</td>\n",
       "      <td>499966</td>\n",
       "      <td>1955-12-04</td>\n",
       "      <td>Mihalis</td>\n",
       "      <td>Crabtree</td>\n",
       "      <td>F</td>\n",
       "      <td>1985-06-13</td>\n",
       "      <td>1985-06-13</td>\n",
       "      <td>9999-01-01</td>\n",
       "      <td>Sales</td>\n",
       "    </tr>\n",
       "    <tr>\n",
       "      <th>240120</th>\n",
       "      <td>d007</td>\n",
       "      <td>499976</td>\n",
       "      <td>1963-08-20</td>\n",
       "      <td>Guozhong</td>\n",
       "      <td>Felder</td>\n",
       "      <td>M</td>\n",
       "      <td>1988-12-26</td>\n",
       "      <td>1988-12-26</td>\n",
       "      <td>9999-01-01</td>\n",
       "      <td>Sales</td>\n",
       "    </tr>\n",
       "    <tr>\n",
       "      <th>240121</th>\n",
       "      <td>d007</td>\n",
       "      <td>499980</td>\n",
       "      <td>1959-06-28</td>\n",
       "      <td>Gino</td>\n",
       "      <td>Usery</td>\n",
       "      <td>M</td>\n",
       "      <td>1991-02-11</td>\n",
       "      <td>1991-02-11</td>\n",
       "      <td>9999-01-01</td>\n",
       "      <td>Sales</td>\n",
       "    </tr>\n",
       "    <tr>\n",
       "      <th>240122</th>\n",
       "      <td>d007</td>\n",
       "      <td>499986</td>\n",
       "      <td>1952-07-22</td>\n",
       "      <td>Nathan</td>\n",
       "      <td>Ranta</td>\n",
       "      <td>F</td>\n",
       "      <td>1985-08-11</td>\n",
       "      <td>1985-08-11</td>\n",
       "      <td>9999-01-01</td>\n",
       "      <td>Sales</td>\n",
       "    </tr>\n",
       "    <tr>\n",
       "      <th>240123</th>\n",
       "      <td>d007</td>\n",
       "      <td>499987</td>\n",
       "      <td>1961-09-05</td>\n",
       "      <td>Rimli</td>\n",
       "      <td>Dusink</td>\n",
       "      <td>F</td>\n",
       "      <td>1998-09-20</td>\n",
       "      <td>1999-12-21</td>\n",
       "      <td>9999-01-01</td>\n",
       "      <td>Sales</td>\n",
       "    </tr>\n",
       "  </tbody>\n",
       "</table>\n",
       "<p>240124 rows × 10 columns</p>\n",
       "</div>"
      ],
      "text/plain": [
       "       dept_no  emp_no  birth_date first_name    last_name gender   hire_date  \\\n",
       "0         d009   10038  1960-07-20       Huan        Lortz      M  1989-09-20   \n",
       "1         d009   10049  1961-04-24      Basil       Tramer      F  1992-05-04   \n",
       "2         d009   10060  1961-10-15   Breannda  Billingsley      M  1987-11-02   \n",
       "3         d009   10088  1954-02-25   Jungsoon     Syrzycki      F  1988-09-02   \n",
       "4         d009   10112  1963-08-13   Yuichiro        Swick      F  1985-10-08   \n",
       "...        ...     ...         ...        ...          ...    ...         ...   \n",
       "240119    d007  499966  1955-12-04    Mihalis     Crabtree      F  1985-06-13   \n",
       "240120    d007  499976  1963-08-20   Guozhong       Felder      M  1988-12-26   \n",
       "240121    d007  499980  1959-06-28       Gino        Usery      M  1991-02-11   \n",
       "240122    d007  499986  1952-07-22     Nathan        Ranta      F  1985-08-11   \n",
       "240123    d007  499987  1961-09-05      Rimli       Dusink      F  1998-09-20   \n",
       "\n",
       "         from_date     to_date         dept_name  \n",
       "0       1989-09-20  9999-01-01  Customer Service  \n",
       "1       1992-05-04  9999-01-01  Customer Service  \n",
       "2       1992-11-11  9999-01-01  Customer Service  \n",
       "3       1992-03-21  9999-01-01  Customer Service  \n",
       "4       1998-05-01  9999-01-01  Customer Service  \n",
       "...            ...         ...               ...  \n",
       "240119  1985-06-13  9999-01-01             Sales  \n",
       "240120  1988-12-26  9999-01-01             Sales  \n",
       "240121  1991-02-11  9999-01-01             Sales  \n",
       "240122  1985-08-11  9999-01-01             Sales  \n",
       "240123  1999-12-21  9999-01-01             Sales  \n",
       "\n",
       "[240124 rows x 10 columns]"
      ]
     },
     "execution_count": 69,
     "metadata": {},
     "output_type": "execute_result"
    }
   ],
   "source": [
    "employee = pd.read_sql(query, engine.connect())\n",
    "employee"
   ]
  },
  {
   "cell_type": "code",
   "execution_count": 80,
   "id": "77703942",
   "metadata": {},
   "outputs": [
    {
     "data": {
      "text/html": [
       "<div>\n",
       "<style scoped>\n",
       "    .dataframe tbody tr th:only-of-type {\n",
       "        vertical-align: middle;\n",
       "    }\n",
       "\n",
       "    .dataframe tbody tr th {\n",
       "        vertical-align: top;\n",
       "    }\n",
       "\n",
       "    .dataframe thead th {\n",
       "        text-align: right;\n",
       "    }\n",
       "</style>\n",
       "<table border=\"1\" class=\"dataframe\">\n",
       "  <thead>\n",
       "    <tr style=\"text-align: right;\">\n",
       "      <th></th>\n",
       "      <th>dept_no</th>\n",
       "      <th>emp_no</th>\n",
       "      <th>birth_date</th>\n",
       "      <th>first_name</th>\n",
       "      <th>last_name</th>\n",
       "      <th>gender</th>\n",
       "      <th>hire_date</th>\n",
       "      <th>from_date</th>\n",
       "      <th>to_date</th>\n",
       "      <th>dept_name</th>\n",
       "    </tr>\n",
       "  </thead>\n",
       "  <tbody>\n",
       "    <tr>\n",
       "      <th>104290</th>\n",
       "      <td>d001</td>\n",
       "      <td>10017</td>\n",
       "      <td>1958-07-06</td>\n",
       "      <td>Cristinel</td>\n",
       "      <td>Bouloucos</td>\n",
       "      <td>F</td>\n",
       "      <td>1993-08-03</td>\n",
       "      <td>1993-08-03</td>\n",
       "      <td>9999-01-01</td>\n",
       "      <td>Marketing</td>\n",
       "    </tr>\n",
       "    <tr>\n",
       "      <th>104291</th>\n",
       "      <td>d001</td>\n",
       "      <td>10058</td>\n",
       "      <td>1954-10-01</td>\n",
       "      <td>Berhard</td>\n",
       "      <td>McFarlin</td>\n",
       "      <td>M</td>\n",
       "      <td>1987-04-13</td>\n",
       "      <td>1988-04-25</td>\n",
       "      <td>9999-01-01</td>\n",
       "      <td>Marketing</td>\n",
       "    </tr>\n",
       "    <tr>\n",
       "      <th>104292</th>\n",
       "      <td>d001</td>\n",
       "      <td>10140</td>\n",
       "      <td>1957-03-11</td>\n",
       "      <td>Yucel</td>\n",
       "      <td>Auria</td>\n",
       "      <td>F</td>\n",
       "      <td>1991-03-14</td>\n",
       "      <td>1991-03-14</td>\n",
       "      <td>9999-01-01</td>\n",
       "      <td>Marketing</td>\n",
       "    </tr>\n",
       "    <tr>\n",
       "      <th>104293</th>\n",
       "      <td>d001</td>\n",
       "      <td>10228</td>\n",
       "      <td>1953-04-21</td>\n",
       "      <td>Karoline</td>\n",
       "      <td>Cesareni</td>\n",
       "      <td>F</td>\n",
       "      <td>1991-08-26</td>\n",
       "      <td>1993-01-28</td>\n",
       "      <td>9999-01-01</td>\n",
       "      <td>Marketing</td>\n",
       "    </tr>\n",
       "    <tr>\n",
       "      <th>104294</th>\n",
       "      <td>d001</td>\n",
       "      <td>10239</td>\n",
       "      <td>1955-03-31</td>\n",
       "      <td>Nikolaos</td>\n",
       "      <td>Llado</td>\n",
       "      <td>F</td>\n",
       "      <td>1995-05-08</td>\n",
       "      <td>1996-05-04</td>\n",
       "      <td>9999-01-01</td>\n",
       "      <td>Marketing</td>\n",
       "    </tr>\n",
       "  </tbody>\n",
       "</table>\n",
       "</div>"
      ],
      "text/plain": [
       "       dept_no  emp_no  birth_date first_name  last_name gender   hire_date  \\\n",
       "104290    d001   10017  1958-07-06  Cristinel  Bouloucos      F  1993-08-03   \n",
       "104291    d001   10058  1954-10-01    Berhard   McFarlin      M  1987-04-13   \n",
       "104292    d001   10140  1957-03-11      Yucel      Auria      F  1991-03-14   \n",
       "104293    d001   10228  1953-04-21   Karoline   Cesareni      F  1991-08-26   \n",
       "104294    d001   10239  1955-03-31   Nikolaos      Llado      F  1995-05-08   \n",
       "\n",
       "         from_date     to_date  dept_name  \n",
       "104290  1993-08-03  9999-01-01  Marketing  \n",
       "104291  1988-04-25  9999-01-01  Marketing  \n",
       "104292  1991-03-14  9999-01-01  Marketing  \n",
       "104293  1993-01-28  9999-01-01  Marketing  \n",
       "104294  1996-05-04  9999-01-01  Marketing  "
      ]
     },
     "execution_count": 80,
     "metadata": {},
     "output_type": "execute_result"
    }
   ],
   "source": [
    "sales_marketing = employee[(employee.dept_name == 'Sales') | (employee.dept_name == 'Marketing')]\n",
    "sales_marketing.head()"
   ]
  },
  {
   "cell_type": "code",
   "execution_count": 81,
   "id": "59339942",
   "metadata": {},
   "outputs": [
    {
     "data": {
      "text/html": [
       "<div>\n",
       "<style scoped>\n",
       "    .dataframe tbody tr th:only-of-type {\n",
       "        vertical-align: middle;\n",
       "    }\n",
       "\n",
       "    .dataframe tbody tr th {\n",
       "        vertical-align: top;\n",
       "    }\n",
       "\n",
       "    .dataframe thead th {\n",
       "        text-align: right;\n",
       "    }\n",
       "</style>\n",
       "<table border=\"1\" class=\"dataframe\">\n",
       "  <thead>\n",
       "    <tr style=\"text-align: right;\">\n",
       "      <th>dept_name</th>\n",
       "      <th>Marketing</th>\n",
       "      <th>Sales</th>\n",
       "    </tr>\n",
       "    <tr>\n",
       "      <th>gender</th>\n",
       "      <th></th>\n",
       "      <th></th>\n",
       "    </tr>\n",
       "  </thead>\n",
       "  <tbody>\n",
       "    <tr>\n",
       "      <th>F</th>\n",
       "      <td>5864</td>\n",
       "      <td>14999</td>\n",
       "    </tr>\n",
       "    <tr>\n",
       "      <th>M</th>\n",
       "      <td>8978</td>\n",
       "      <td>22702</td>\n",
       "    </tr>\n",
       "  </tbody>\n",
       "</table>\n",
       "</div>"
      ],
      "text/plain": [
       "dept_name  Marketing  Sales\n",
       "gender                     \n",
       "F               5864  14999\n",
       "M               8978  22702"
      ]
     },
     "execution_count": 81,
     "metadata": {},
     "output_type": "execute_result"
    }
   ],
   "source": [
    "sales_marketing_ct = pd.crosstab(sales_marketing.gender, sales_marketing.dept_name)\n",
    "sales_marketing_ct"
   ]
  },
  {
   "cell_type": "code",
   "execution_count": 83,
   "id": "88438839",
   "metadata": {},
   "outputs": [],
   "source": [
    "chi, p, degf, exp = stats.chi2_contingency(sales_marketing_ct)"
   ]
  },
  {
   "cell_type": "code",
   "execution_count": 79,
   "id": "9111fead",
   "metadata": {},
   "outputs": [
    {
     "data": {
      "text/plain": [
       "(221.60114385352526,\n",
       " 1.104881117447524e-40,\n",
       " 12,\n",
       " array([[ 2.2008547 ,  2.26495726,  0.53418803],\n",
       "        [20.68803419, 21.29059829,  5.02136752],\n",
       "        [18.04700855, 18.57264957,  4.38034188],\n",
       "        [ 4.84188034,  4.98290598,  1.17521368],\n",
       "        [14.52564103, 14.94871795,  3.52564103],\n",
       "        [15.40598291, 15.85470085,  3.73931624],\n",
       "        [27.29059829, 28.08547009,  6.62393162]]))"
      ]
     },
     "execution_count": 79,
     "metadata": {},
     "output_type": "execute_result"
    }
   ],
   "source": [
    "chi, p, degf, exp"
   ]
  },
  {
   "cell_type": "code",
   "execution_count": 85,
   "id": "55ce6a0e",
   "metadata": {},
   "outputs": [
    {
     "name": "stdout",
     "output_type": "stream",
     "text": [
      "There is no correlation between gender and working on sales or marketing.\n"
     ]
    }
   ],
   "source": [
    "if p < a:\n",
    "    print('There is a correlation between gender and working on sales or marketing.')\n",
    "else:\n",
    "    print('There is no correlation between gender and working on sales or marketing.')"
   ]
  },
  {
   "cell_type": "code",
   "execution_count": null,
   "id": "6619c523",
   "metadata": {},
   "outputs": [],
   "source": []
  }
 ],
 "metadata": {
  "kernelspec": {
   "display_name": "Python 3 (ipykernel)",
   "language": "python",
   "name": "python3"
  },
  "language_info": {
   "codemirror_mode": {
    "name": "ipython",
    "version": 3
   },
   "file_extension": ".py",
   "mimetype": "text/x-python",
   "name": "python",
   "nbconvert_exporter": "python",
   "pygments_lexer": "ipython3",
   "version": "3.10.9"
  }
 },
 "nbformat": 4,
 "nbformat_minor": 5
}
