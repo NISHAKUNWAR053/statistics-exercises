{
 "cells": [
  {
   "cell_type": "markdown",
   "id": "574cf571",
   "metadata": {},
   "source": [
    "For each of the following questions, formulate a null and alternative hypothesis (be as specific as you can be), then give an example of what a true positive, true negative, type I and type II errors would look like. Note that some of the questions are intentionally phrased in a vague way. It is your job to reword these as more precise questions that could be tested."
   ]
  },
  {
   "cell_type": "markdown",
   "id": "fcbb92bb",
   "metadata": {},
   "source": [
    "# Has the network latency gone up since we switched internet service providers?\n"
   ]
  },
  {
   "cell_type": "markdown",
   "id": "ad813c83",
   "metadata": {},
   "source": [
    "    * Null hypothesis(HO) : The network latency have not changes since switching intenet serive provider.\n",
    "    * Alterative hypothesis(Ha) : Change of internet serive provider has increased our network latency.\n",
    "    * True Positive : We reject 👍🏻 the null hypothesis in favor of alternate hypothesis since the data shows that the network latency has increased after switching providers.\n",
    "    * True Negative : We fail 👎🏻 to reject that the change of provider had the effect of increasing latency.\n",
    "    * Type I Error : The data shows that network 🛜 latency have gone up 🆙 but it is not true. \n",
    "    * Type II Error: The data shows that network latency have not changed but it is not true. \n",
    "    \n"
   ]
  },
  {
   "cell_type": "markdown",
   "id": "34638564",
   "metadata": {},
   "source": [
    "# Is the website redesign any good?\n"
   ]
  },
  {
   "cell_type": "markdown",
   "id": "9b0b0d1b",
   "metadata": {},
   "source": [
    "    * Null hypothesis(HO) : Website redesign has not improved user satisfaction .👎🏻 \n",
    "    * Alterative hypothesis(Ha) : Website redesign has improved user satisfaction. 👍🏻\n",
    "    * True Positive : Website redesign shows improvement and we reject null hypothesis in favor of alternative hypothesis. \n",
    "    * True negative : Website redesign do not shows up significant improvements and we fail to reject null hypothesis. \n",
    "    * Type I Error : Redesigning website do not show any improvements but it is not true. \n",
    "    * Type II Error: Redesigning website shows significant improvements but it is not true."
   ]
  },
  {
   "cell_type": "markdown",
   "id": "e498fc4e",
   "metadata": {},
   "source": [
    "# Is our television ad driving more sales?\n"
   ]
  },
  {
   "cell_type": "markdown",
   "id": "43ba2f88",
   "metadata": {},
   "source": [
    "    * Null hypothesis(HO) : Driving more Television add has not led to an increased sales.\n",
    "    * Alterative hypothesis(Ha) : Television ad driving has led to an increase in sales. \n",
    "    * True positive : After running ad, sales shows significant increase, and we reject null hypothesis in favor of alternative hypothesis. \n",
    "    * True negative : After running ad, sales do not shows significant increase, and we fail to reject null hypothesis.\n",
    "    * Type I Error : Sales indicate that ad has had positive affect when it has not. \n",
    "    * Type II Error : Result indicate that ad has not had a positive effect on sales, when it has. "
   ]
  }
 ],
 "metadata": {
  "kernelspec": {
   "display_name": "Python 3 (ipykernel)",
   "language": "python",
   "name": "python3"
  },
  "language_info": {
   "codemirror_mode": {
    "name": "ipython",
    "version": 3
   },
   "file_extension": ".py",
   "mimetype": "text/x-python",
   "name": "python",
   "nbconvert_exporter": "python",
   "pygments_lexer": "ipython3",
   "version": "3.10.9"
  }
 },
 "nbformat": 4,
 "nbformat_minor": 5
}
